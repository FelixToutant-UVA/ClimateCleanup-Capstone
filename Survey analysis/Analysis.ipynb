{
 "cells": [
  {
   "cell_type": "markdown",
   "metadata": {},
   "source": [
    "Over uw voedselbos:\n",
    "\n",
    "Q1: Wat is de naam van uw voedselbos?\n",
    "\n",
    "Q2: Wat is de grootte van uw voedselbos?\n",
    "\n",
    "Q3: In welke provincie is uw voedselbos gelokaliseerd?\n",
    "\n",
    "Q4: In welk jaar is uw voedselbos opgezet?\n",
    "\n",
    "Q5: Wat zijn uw belangrijkste producten?\n",
    "Meerdere antwoorden mogelijk\n",
    "\n",
    "Verkoop en zakelijke relaties:\n",
    "\n",
    "Q6: Verkoopt u momenteel producten van uw voedselbos?\n",
    "\n",
    "Q7: Aan wie levert u voornamelijk?\n",
    "Meerdere antwoorden mogelijk\n",
    "\n",
    "Q8: Hoe verkoopt u op dit moment uw producten?\n",
    "\n",
    "Behoefte aan digitale ondersteuning:\n",
    "\n",
    "Q9: Wat zijn de grootste uitdagingen bij het bereiken van zakelijke klanten of het betreden van de markt?\n",
    "(Schaal: 1 = Helemaal geen uitdaging, 5 = Zeer grote uitdaging)\n",
    "\n",
    "Q10: Denkt u dat zakelijke klanten de waarde van voedselbos producten begrijpen in vergelijking met conventionele alternatieven? Waarom wel of niet?\n",
    "\n",
    "Q11: Welke onderdelen zouden voor u nuttig zijn in een digitaal platform voor voedselbossen (in relatie tot zakelijke verkoop)?\n",
    "\n",
    "Q12: Rangschik uw top 3 van bovenstaande opties op basis van belangrijkheid\n",
    "\n",
    "Q13: Houdt u momenteel de impact van uw voedselbos op het milieu bij?\n",
    "(Bijv. koolstofvastlegging, biodiversiteit, bodemgezondheid)\n",
    "\n",
    "Q14: Houdt u een database bij met de producten die u verkoopt in uw voedselbos?\n",
    "\n",
    "Q15: Welke gegevens zou u zelf belangrijk vinden om te tonen op een digitaal platform over uw voedselbos?\n",
    "\n",
    "Q16: In hoeverre bent u het eens met de volgende uitspraken over het voorgestelde platform?\n",
    "Schaal: 1 = Helemaal oneens, 5 = Helemaal eens\n",
    "\n",
    "Carbon credits:\n",
    "\n",
    "Q17: Bent u momenteel betrokken bij een programma voor carbon credits?\n",
    "\n",
    "Q18: Wat zijn de grootste belemmeringen voor toegang tot carbon credits voor uw voedselbos?\n",
    "Selecteer alle toepasselijke antwoorden\n",
    "\n",
    "Tot slot:\n",
    "\n",
    "Q19: Bent u bereid om een prototype van dit platform te testen en feedback te geven?\n",
    "\n",
    "Q20: Als u op de hoogte wilt blijven van dit project, laat dan uw e-mailadres achter:\n",
    "Optioneel"
   ]
  },
  {
   "cell_type": "code",
   "execution_count": 95,
   "metadata": {},
   "outputs": [],
   "source": [
    "import pandas as pd\n",
    "from collections import Counter\n",
    "import matplotlib.pyplot as plt\n",
    "\n",
    "# Reload the file after code state reset\n",
    "file_path = r\"C:\\Users\\Vince\\OneDrive\\Documenten\\GitHub\\ClimateCleanup-Capstone-main\\ClimateCleanup-Capstone-main\\Survey analysis\\Voedsel bos vragenlijst_April 1, 2025_02.56.csv\"\n"
   ]
  },
  {
   "cell_type": "markdown",
   "metadata": {},
   "source": [
    "Cleaning and summary TAM (Q16)\n",
    "\n",
    "Perceived Usefulness: Q16_1, Q16_2\n",
    "Perceived Ease of Use: Q16_3, Q16_4\n",
    "Behavioural Intention: Q16_5"
   ]
  },
  {
   "cell_type": "code",
   "execution_count": 96,
   "metadata": {},
   "outputs": [
    {
     "data": {
      "text/html": [
       "<div>\n",
       "<style scoped>\n",
       "    .dataframe tbody tr th:only-of-type {\n",
       "        vertical-align: middle;\n",
       "    }\n",
       "\n",
       "    .dataframe tbody tr th {\n",
       "        vertical-align: top;\n",
       "    }\n",
       "\n",
       "    .dataframe thead th {\n",
       "        text-align: right;\n",
       "    }\n",
       "</style>\n",
       "<table border=\"1\" class=\"dataframe\">\n",
       "  <thead>\n",
       "    <tr style=\"text-align: right;\">\n",
       "      <th></th>\n",
       "      <th>Perceived Usefulness</th>\n",
       "      <th>Perceived Ease of Use</th>\n",
       "      <th>Behavioural Intention</th>\n",
       "    </tr>\n",
       "  </thead>\n",
       "  <tbody>\n",
       "    <tr>\n",
       "      <th>count</th>\n",
       "      <td>32.000000</td>\n",
       "      <td>32.000000</td>\n",
       "      <td>33.000000</td>\n",
       "    </tr>\n",
       "    <tr>\n",
       "      <th>mean</th>\n",
       "      <td>4.953125</td>\n",
       "      <td>4.937500</td>\n",
       "      <td>6.272727</td>\n",
       "    </tr>\n",
       "    <tr>\n",
       "      <th>std</th>\n",
       "      <td>2.646846</td>\n",
       "      <td>2.491113</td>\n",
       "      <td>2.239876</td>\n",
       "    </tr>\n",
       "    <tr>\n",
       "      <th>min</th>\n",
       "      <td>1.000000</td>\n",
       "      <td>1.000000</td>\n",
       "      <td>1.000000</td>\n",
       "    </tr>\n",
       "    <tr>\n",
       "      <th>25%</th>\n",
       "      <td>2.000000</td>\n",
       "      <td>3.000000</td>\n",
       "      <td>6.000000</td>\n",
       "    </tr>\n",
       "    <tr>\n",
       "      <th>50%</th>\n",
       "      <td>6.000000</td>\n",
       "      <td>6.000000</td>\n",
       "      <td>7.000000</td>\n",
       "    </tr>\n",
       "    <tr>\n",
       "      <th>75%</th>\n",
       "      <td>7.000000</td>\n",
       "      <td>6.500000</td>\n",
       "      <td>8.000000</td>\n",
       "    </tr>\n",
       "    <tr>\n",
       "      <th>max</th>\n",
       "      <td>8.000000</td>\n",
       "      <td>8.000000</td>\n",
       "      <td>8.000000</td>\n",
       "    </tr>\n",
       "  </tbody>\n",
       "</table>\n",
       "</div>"
      ],
      "text/plain": [
       "       Perceived Usefulness  Perceived Ease of Use  Behavioural Intention\n",
       "count             32.000000              32.000000              33.000000\n",
       "mean               4.953125               4.937500               6.272727\n",
       "std                2.646846               2.491113               2.239876\n",
       "min                1.000000               1.000000               1.000000\n",
       "25%                2.000000               3.000000               6.000000\n",
       "50%                6.000000               6.000000               7.000000\n",
       "75%                7.000000               6.500000               8.000000\n",
       "max                8.000000               8.000000               8.000000"
      ]
     },
     "execution_count": 96,
     "metadata": {},
     "output_type": "execute_result"
    }
   ],
   "source": [
    "\n",
    "df = pd.read_csv(file_path)\n",
    "\n",
    "# Show first few rows and column names\n",
    "df.head(), df.columns.tolist()\n",
    "\n",
    "# Remove the first two rows (metadata) and reset index\n",
    "clean_df = df.iloc[2:].reset_index(drop=True)\n",
    "\n",
    "# Convert Likert scale questions (Q16_1 to Q16_5) to numeric\n",
    "likert_columns = ['Q16_1', 'Q16_2', 'Q16_3', 'Q16_4', 'Q16_5']\n",
    "clean_df[likert_columns] = clean_df[likert_columns].apply(pd.to_numeric, errors='coerce')\n",
    "\n",
    "# Show cleaned data preview and basic descriptive stats for Likert items\n",
    "clean_df[likert_columns].describe()\n",
    "\n",
    "# Define which questions belong to which TAM constructs\n",
    "pu_items = ['Q16_1', 'Q16_2']   # Perceived Usefulness\n",
    "peou_items = ['Q16_3', 'Q16_4'] # Perceived Ease of Use\n",
    "bi_items = ['Q16_5']            # Behavioral Intention\n",
    "\n",
    "# Calculate mean scores per respondent for each TAM construct\n",
    "clean_df['Perceived Usefulness'] = clean_df[pu_items].mean(axis=1)\n",
    "clean_df['Perceived Ease of Use'] = clean_df[peou_items].mean(axis=1)\n",
    "clean_df['Behavioural Intention'] = clean_df[bi_items].mean(axis=1)\n",
    "\n",
    "# Display summary statistics of TAM scores\n",
    "clean_df[['Perceived Usefulness', 'Perceived Ease of Use', 'Behavioural Intention']].describe()\n",
    "\n",
    "\n",
    "# tam_questions = {\n",
    "#     \"Perceived Usefulness (PU)\": {\n",
    "#         \"Q16_1\": \"This platform would help me promote my food forest.\",\n",
    "#         \"Q16_2\": \"This platform would make marketing my products easier.\"\n",
    "#     },\n",
    "#     \"Perceived Ease of Use (PEOU)\": {\n",
    "#         \"Q16_3\": \"The platform would be easy to use.\",\n",
    "#         \"Q16_4\": \"I would be able to use this platform without extra help.\"\n",
    "#     },\n",
    "#     \"Behavioral Intention (BI)\": {\n",
    "#         \"Q16_5\": \"I would consider using this platform in the future.\"\n",
    "#     }\n",
    "# }"
   ]
  },
  {
   "cell_type": "code",
   "execution_count": 97,
   "metadata": {},
   "outputs": [
    {
     "data": {
      "image/png": "[encoded data removed]",
      "text/plain": [
       "<Figure size 576x360 with 1 Axes>"
      ]
     },
     "metadata": {
      "needs_background": "light"
     },
     "output_type": "display_data"
    }
   ],
   "source": [
    "\n",
    "# Set up boxplot\n",
    "plt.figure(figsize=(8, 5))\n",
    "clean_df[['Perceived Usefulness', 'Perceived Ease of Use', 'Behavioural Intention']].boxplot()\n",
    "plt.title('Distribution of TAM Scores')\n",
    "plt.ylabel('Score (1 = Strongly Disagree, 8 = Strongly Agree)')\n",
    "plt.grid(axis='y')\n",
    "plt.tight_layout()\n",
    "plt.show()"
   ]
  },
  {
   "cell_type": "markdown",
   "metadata": {},
   "source": [
    "Barriers to reaching customers (Q9)"
   ]
  },
  {
   "cell_type": "code",
   "execution_count": 98,
   "metadata": {},
   "outputs": [
    {
     "data": {
      "image/png": "[encoded data removed]",
      "text/plain": [
       "<Figure size 720x432 with 1 Axes>"
      ]
     },
     "metadata": {
      "needs_background": "light"
     },
     "output_type": "display_data"
    },
    {
     "name": "stdout",
     "output_type": "stream",
     "text": [
      "\n",
      "Open-ended responses:\n",
      "1. nvt\n",
      "2. onvolgroeid voedselbos\n",
      "3. Voor mij is het geen probleem, denk echter dat bijna alle voedselbossen nog bitter weinig opbrengst hebben!\n",
      "4. Niet genoeg producten \n",
      "5. we hebben niet die intenties \n",
      "6. Ons voedselbos is niet commercieel,  de gemeenschap is de afndselbos is niet \n",
      "7. Wij hebben geen verdienmodel en geven alles weg\n",
      "8. 1\n",
      "9. geen commerciele instelling\n",
      "10. zijn een stichting zonder winstoogmerk dus men kan hier gratis voor eigen gebruik komen plukken\n",
      "11. Nvt\n",
      "12. wij hebben geen zakelijk belang\n",
      "13. wij hebben ons voedselbos voor educatieve doeleinden opgezet\n",
      "14. nog te weinig productie\n",
      "15. onvoldoende volume\n",
      "16. Aanvoer van oogst\n",
      "17. Zure zandgrond, trage groei\n"
     ]
    }
   ],
   "source": [
    "# 1. Reload the original column labels (from metadata row)\n",
    "q9_labels_cleaned = [\n",
    "    \"Lack of marketing knowledge\",\n",
    "    \"Unclear product offering\",\n",
    "    \"Lack of time for outreach\",\n",
    "    \"No access to online tools/platforms\",\n",
    "    \"Don't know how to communicate impact\",\n",
    "    \"Uncertain target audience\",\n",
    "    \"Other (please specify)\"\n",
    "]\n",
    "\n",
    "# 2. Extract Q9 checkbox counts\n",
    "q9_columns = [col for col in clean_df.columns if col.startswith(\"Q9_\") and not col.endswith(\"TEXT\")]\n",
    "q9_counts = clean_df[q9_columns].notnull().sum().sort_values(ascending=False)\n",
    "\n",
    "# 3. Rebuild DataFrame with readable labels\n",
    "barriers_df_labeled = pd.DataFrame({\n",
    "    \"Barrier\": q9_labels_cleaned,\n",
    "    \"Count\": q9_counts.values\n",
    "}).sort_values(by=\"Count\", ascending=False)\n",
    "\n",
    "# 4. Plot the results\n",
    "plt.figure(figsize=(10, 6))\n",
    "plt.barh(barriers_df_labeled[\"Barrier\"], barriers_df_labeled[\"Count\"], color=\"teal\")\n",
    "plt.xlabel(\"Number of Respondents\")\n",
    "plt.title(\"Barriers to Reaching Customers (Q9)\")\n",
    "plt.gca().invert_yaxis()\n",
    "plt.tight_layout()\n",
    "plt.show()\n",
    "\n",
    "# 5. Print open-ended responses (text answers)\n",
    "open_responses = clean_df[\"Q9_7_TEXT\"].dropna()\n",
    "\n",
    "print(\"\\nOpen-ended responses:\")\n",
    "for i, response in enumerate(open_responses, 1):\n",
    "    print(f\"{i}. {response}\")\n"
   ]
  },
  {
   "cell_type": "code",
   "execution_count": 99,
   "metadata": {},
   "outputs": [
    {
     "data": {
      "image/png": "[encoded data removed]",
      "text/plain": [
       "<Figure size 720x432 with 1 Axes>"
      ]
     },
     "metadata": {
      "needs_background": "light"
     },
     "output_type": "display_data"
    },
    {
     "name": "stdout",
     "output_type": "stream",
     "text": [
      "\n",
      "Open-ended responses from Q11 (related to Q12):\n",
      "1. bij ons is alles sociaal, geen verdien model\n",
      "2. voor mijzelf is niks echt nodig\n",
      "3. Voor mij niet van belang\n",
      "4. Als we een overschot hebben dan willen we dat gratis aanbieden aan mensen die het nodig hebben.\n",
      "5. Recepten\n",
      "6. geen commercieel belan\n",
      "7. ik heb dit ingevuld met het idee dat als ons voedselbos wel commercieel zou mogen verkopen.\n",
      "8. We gaan voorlopig geen producten verkopen.\n",
      "9. communicatie binnen netwerk van voedselbossen. Kennis, ervaringen, ideeën en planten/zaden uitwisselen. \n",
      "10. logistiek organiseren\n",
      "11. Is voor onze doelstelling niet interessant \n",
      "12. Hoewel zo'n platform handig kan zijn, merken wij dat het succes van de samenwerking zit in laagdrempelig en direct contact met afnemers. Als er nieuwe producten zijn (of oogst rijpt eerder/later af) dan moeten we snel kunnen schakelen. Wij doen dat gewoon via whatsapp. Een oogstkalender of voorraadbeheer klinkt geweldig, maar blijft bij zo'n grote diversiteit en afhankelijkheid van de weersomstandigheden altijd een onnauwkeurige inschatting van de werkelijkheid. Er is denk ik altijd directe afstemming en contact nodig, dus denk goed na over de toegevoegde waarde van zo'n platform. \n",
      "13. inzicht in vergelijk met traditionele (uitputtende) landbouw\n",
      "14. Ik heb bewust nog niet voor online gekozen, dus heb hier ook nog geen concrete ideeën over. Maar ik sta ervoor open om hierover te sparren\n",
      "15. IVN overijssel heeft al veel van bovenstaande\n"
     ]
    }
   ],
   "source": [
    "# 1. Assign readable feature labels\n",
    "q12_labels_readable = [\n",
    "    \"Live inventory of products\",\n",
    "    \"Environmental impact data\",\n",
    "    \"Carbon credit integration\",\n",
    "    \"Product calendar\",\n",
    "    \"Connection to restaurants\",\n",
    "    \"QR code functionality\"\n",
    "]\n",
    "\n",
    "# 2. Extract Q12 checkbox counts\n",
    "q12_columns = [col for col in clean_df.columns if col.startswith(\"Q12_\") and not col.endswith(\"TEXT\")]\n",
    "q12_counts = clean_df[q12_columns].apply(pd.to_numeric, errors='coerce')\n",
    "q12_mean_ranks = q12_counts.mean().sort_values()\n",
    "\n",
    "# 3. Rebuild DataFrame with readable labels\n",
    "q12_ranks_df = pd.DataFrame({\n",
    "    \"Feature\": [q12_labels_readable[int(col.split(\"_\")[1]) - 1] for col in q12_mean_ranks.index],\n",
    "    \"Average Rank\": q12_mean_ranks.values\n",
    "}).sort_values(by=\"Average Rank\").reset_index(drop=True)\n",
    "\n",
    "# 4. Plot the results\n",
    "plt.figure(figsize=(10, 6))\n",
    "plt.barh(q12_ranks_df[\"Feature\"], q12_ranks_df[\"Average Rank\"], color=\"teal\")\n",
    "plt.xlabel(\"Average Rank (lower = better)\")\n",
    "plt.title(\"Preferred Platform Features (Q12)\")\n",
    "plt.gca().invert_yaxis()\n",
    "plt.tight_layout()\n",
    "plt.show()\n",
    "\n",
    "# 5. Print open-ended responses\n",
    "# Let's extract open responses from Q11 instead, assuming it's the correct source\n",
    "q11_text_column = [col for col in clean_df.columns if col.startswith(\"Q11\") and col.endswith(\"TEXT\")]\n",
    "\n",
    "# Display responses if they exist\n",
    "if q11_text_column:\n",
    "    q11_open_responses = clean_df[q11_text_column[0]].dropna()\n",
    "    print(\"\\nOpen-ended responses from Q11 (related to Q12):\")\n",
    "    for i, response in enumerate(q11_open_responses, 1):\n",
    "        print(f\"{i}. {response}\")\n",
    "else:\n",
    "    print(\"No open text responses found for Q11.\")\n"
   ]
  },
  {
   "cell_type": "markdown",
   "metadata": {},
   "source": [
    "Q6: \"Do you sell products?\"\n",
    "\n",
    "Q7: \"To whom?\""
   ]
  },
  {
   "cell_type": "code",
   "execution_count": 100,
   "metadata": {},
   "outputs": [
    {
     "data": {
      "text/plain": [
       "No     23\n",
       "Yes    15\n",
       "NaN     4\n",
       "Name: Q6, dtype: int64"
      ]
     },
     "execution_count": 100,
     "metadata": {},
     "output_type": "execute_result"
    }
   ],
   "source": [
    "# Pull Q6 column from the original raw file (not cleaned)\n",
    "q6_raw = df[\"Q6\"].iloc[2:]  # Skip first two metadata rows\n",
    "\n",
    "# Map values: 5 = Yes, 4 = No\n",
    "q6_raw_mapped = q6_raw.map({\"4\": \"Yes\", \"5\": \"No\"})\n",
    "\n",
    "# Count occurrences\n",
    "q6_raw_counts = q6_raw_mapped.value_counts(dropna=False)\n",
    "\n",
    "q6_raw_counts\n"
   ]
  },
  {
   "cell_type": "code",
   "execution_count": 101,
   "metadata": {},
   "outputs": [
    {
     "data": {
      "image/png": "[encoded data removed]",
      "text/plain": [
       "<Figure size 720x432 with 1 Axes>"
      ]
     },
     "metadata": {
      "needs_background": "light"
     },
     "output_type": "display_data"
    },
    {
     "name": "stdout",
     "output_type": "stream",
     "text": [
      "\n",
      "Open-ended responses (Q7_14_TEXT):\n",
      "1. Leden van het voedselbos\n",
      "2. Eigen biowinkel ‘Natuurlijk KleinDongen’\n",
      "3. straatwinkel\n",
      "4. voedselcooperatie\n",
      "5. Ik ben in 2023 De Voedselboswinkel gestart. De eerste voedselboswinkel van Nederland. Wij zetten voedselbossen in de spotlight als belangrijke voedselbron in Nederland. Wij verkopen onze eigen oogst en producten en ook van andere voedselbossen. Dit jaar starten we een pilot gezamenlijke oogstverwerking om de keten van voedselbos tot afzet aan te zwengelen. Dit doen we in samenwerking met voedselbosverwerkingsbedrijf Boslekker.\n"
     ]
    }
   ],
   "source": [
    "clean_df = df.iloc[2:].reset_index(drop=True)\n",
    "\n",
    "# Filter only rows where Q6 == 4 (i.e., they sell products)\n",
    "sellers_df = clean_df[clean_df[\"Q6\"] == \"4\"]\n",
    "\n",
    "# Split Q7 multiple choice into flat list\n",
    "q7_raw = sellers_df[\"Q7\"].dropna().astype(str)\n",
    "q7_split = q7_raw.str.split(\",\")\n",
    "q7_flat = [item.strip() for sublist in q7_split for item in sublist]\n",
    "\n",
    "# Count frequencies\n",
    "q7_counts = Counter(q7_flat)\n",
    "\n",
    "# Define readable labels (based on your Qualtrics or manual list)\n",
    "q7_labels = {\n",
    "    \"1\": \"Local consumers\",\n",
    "    \"2\": \"Online consumers\",\n",
    "    \"3\": \"Markets\",\n",
    "    \"4\": \"Restaurants\",\n",
    "    \"5\": \"Stores\",\n",
    "    \"6\": \"Wholesalers\",\n",
    "    \"7\": \"Food cooperatives\",\n",
    "    \"8\": \"CSA\",\n",
    "    \"9\": \"Institutions\",\n",
    "    \"10\": \"Catering\",\n",
    "    \"11\": \"Own store\",\n",
    "    \"12\": \"Visitors\",\n",
    "    \"13\": \"Food box services\",\n",
    "    \"14\": \"Other\"\n",
    "}\n",
    "\n",
    "# Convert to DataFrame\n",
    "q7_df = pd.DataFrame({\n",
    "    \"Recipient\": [q7_labels.get(k, f\"Option {k}\") for k in q7_counts.keys()],\n",
    "    \"Count\": q7_counts.values()\n",
    "}).sort_values(\"Count\", ascending=False)\n",
    "\n",
    "# Display chart\n",
    "plt.figure(figsize=(10, 6))\n",
    "plt.barh(q7_df[\"Recipient\"], q7_df[\"Count\"], color=\"darkgreen\")\n",
    "plt.xlabel(\"Number of Respondents\")\n",
    "plt.title(\"Q7 - To Whom Do You Primarily Sell Products?\")\n",
    "plt.gca().invert_yaxis()\n",
    "plt.tight_layout()\n",
    "plt.show()\n",
    "\n",
    "# Show open-text \"Other\" responses\n",
    "open_text_q7 = sellers_df[\"Q7_14_TEXT\"].dropna()\n",
    "print(\"\\nOpen-ended responses (Q7_14_TEXT):\")\n",
    "for i, txt in enumerate(open_text_q7, 1):\n",
    "    print(f\"{i}. {txt}\")"
   ]
  },
  {
   "cell_type": "code",
   "execution_count": null,
   "metadata": {},
   "outputs": [],
   "source": []
  },
  {
   "cell_type": "markdown",
   "metadata": {},
   "source": [
    "Q10: Denkt u dat zakelijke klanten de waarde van voedselbos producten begrijpen in vergelijking met conventionele alternatieven? Waarom wel of niet?\n",
    "\n",
    "\n",
    "Maybe categorise the responses?"
   ]
  },
  {
   "cell_type": "code",
   "execution_count": 111,
   "metadata": {},
   "outputs": [
    {
     "data": {
      "text/plain": [
       "(Amper                                                                                                                                                                                                                                                                                                                                             1\n",
       " Dat hangt van de klant af. Als je het hebt over koks en liefhebbers van voedsel en koken, of mensen die wat meer kennis hebben van duurzame landbouw dan zeker wel maar iedereen let op de prijs (dat is dus bij ons voedselbos geen onderwerp maar weet ik vanuit andere hoek)                                                                   1\n",
       " De huidige klanten begrijpen de waarde van voedselbos producten in vergelijking met conventionele alternatieven. Voor nieuwe klanten is dit lastig uit te leggen en is dit echt een proces.                                                                                                                                                       1\n",
       " De uitdagibg zit in het duidelijk maken hoe je het verwerkt naar op je bord, dat herkenbaar is als eten.\\nZelf verkoop ik weinig en heb ik ook nog weinig oogst. Ik verkoop aan Rustpunt gasten. Fietsers en wandelaars die komen kijken.                                                                                                         1\n",
       " De zakelijke klanten willen niet te duur zijn voor hun klanten                                                                                                                                                                                                                                                                                    1\n",
       " Een niche van de zakelijke klanten zou het begrijpen. Het merendeel niet en gaat voor de (goedkope) prijs                                                                                                                                                                                                                                         1\n",
       " Er wordt steeds meer bekend over de relatie tussen bodemvruchtbaarheid in relatie tot de voedingswaarde van de oogst en de gezondheidseffecten daarvan. Hoe meer daarover bekend wordt, hoe meer belangstelling voor de oogst.                                                                                                                    1\n",
       " Ja                                                                                                                                                                                                                                                                                                                                                1\n",
       " Ja die begrijpen ze. Het blijft voor heb een uitdaging om niet te vervallen tot een prijsvergelijk.                                                                                                                                                                                                                                               1\n",
       " Ja, wij laten onze klanten (groepsrecreatie) zien hoe e.a. in een bestaand bos kan groeien.                                                                                                                                                                                                                                                       1\n",
       " Ja. We worden geregeld benaderd door bedrijven met interesse in het afnemen van producten. Ze zijn aangetrokken door het concept voedselbos en intrinsiek gemotiveerd om op die manier bij te dragen aan de landbouwtransitie. Of zo'n benadering dan ook resulteert in een succesvolle samenwerking, hangt af van een boel praktische zaken.     1\n",
       " Jazeker                                                                                                                                                                                                                                                                                                                                           1\n",
       " Lokaal ja, bovenlokaal weet ik niet. Het wordt als biologisch gezien.                                                                                                                                                                                                                                                                             1\n",
       " Nee, want wij staan voor andere waarden dan geldwaarde. De wereld gaat kapot aan zakelijkheid en dat willen wij doorbreken.                                                                                                                                                                                                                       1\n",
       " Nvt                                                                                                                                                                                                                                                                                                                                               1\n",
       " Nvt                                                                                                                                                                                                                                                                                                                                               1\n",
       " Sommige wel, maar daar hoort wel een verhaal bij….                                                                                                                                                                                                                                                                                                1\n",
       " Zeker! Zodra je het verhaal verteld wil iedereen het hebben                                                                                                                                                                                                                                                                                       1\n",
       " de partijen die hierop gericht zijn begrijpen het heel goed en hebben hun eigen bedrijf hier ook op ingericht. het gaat dan om eco-winkels en restaurants. de grotere winkelketens zijn veel lastiger. daarvoor is ons voedselbos ook niet groot genoeg                                                                                           1\n",
       " denk ik niet                                                                                                                                                                                                                                                                                                                                      1\n",
       " geen idee                                                                                                                                                                                                                                                                                                                                         1\n",
       " in mijn (groene) bubble wel, daarbuiten veel minder                                                                                                                                                                                                                                                                                               1\n",
       " nee, begrijpen het verhaal niet goed, zeker op gezondheid gebied.                                                                                                                                                                                                                                                                                 1\n",
       " nee, behalve hele exclusieve producten                                                                                                                                                                                                                                                                                                            1\n",
       " nee, nog te weinig bekend mee en te veel gewend aan lage prijzen                                                                                                                                                                                                                                                                                  1\n",
       " nog geen ervaring mee, garantie van schoon en houdbaar levert meeste discussie op                                                                                                                                                                                                                                                                 1\n",
       " wij gaan mogelijk leveren aan lokale restaurants, onze winst is ideologisch, de restaurants kunnen zich profileren met lokale producten die exclusief zijn.                                                                                                                                                                                       1\n",
       " wij hebben geen zakelijke klanten maar merken wel dat er van die zijde de belangstelling wel toeneemt.                                                                                                                                                                                                                                            1\n",
       " Name: Q10, dtype: int64,\n",
       " '{\"ImportId\":\"QID35_TEXT\"}')"
      ]
     },
     "execution_count": 111,
     "metadata": {},
     "output_type": "execute_result"
    }
   ],
   "source": [
    "# Step 1: Locate Q10 columns\n",
    "q10_columns = [col for col in clean_df.columns if col.startswith(\"Q10_\") and not col.endswith(\"TEXT\")]\n",
    "q10_text_column = [col for col in clean_df.columns if col.startswith(\"Q10\") and col.endswith(\"TEXT\")]\n",
    "\n",
    "# Step 2: Count how many times each option was selected (checkboxes)\n",
    "q10_counts = clean_df[q10_columns].notnull().sum().sort_values(ascending=False)\n",
    "\n",
    "# Step 3: Get labels from original df\n",
    "q10_labels = df[q10_columns].iloc[1].values\n",
    "\n",
    "# Step 4: Build DataFrame\n",
    "q10_df = pd.DataFrame({\n",
    "    \"Platform Feature\": q10_labels,\n",
    "    \"Count\": q10_counts.values\n",
    "}).sort_values(by=\"Count\", ascending=False)\n",
    "\n",
    "# Step 5: Check open responses if available\n",
    "if q10_text_column:\n",
    "    q10_open_responses = clean_df[q10_text_column[0]].dropna().tolist()\n",
    "else:\n",
    "    q10_open_responses = []\n",
    "\n",
    "q10_df, q10_open_responses\n",
    "\n",
    "\n",
    "# Let's inspect all column names that contain \"Q10\" to understand how they are labeled\n",
    "[col for col in clean_df.columns if \"Q10\" in col]\n",
    "\n",
    "\n",
    "# Step 1: Extract and count values in the single-response Q10 column\n",
    "q10_value_counts = clean_df[\"Q10\"].value_counts().sort_index()\n",
    "\n",
    "# Step 2: Extract label descriptions from the second row of the raw df (metadata)\n",
    "q10_labels_dict = df.iloc[1].get(\"Q10\", None)\n",
    "\n",
    "q10_value_counts, q10_labels_dict\n",
    "    "
   ]
  },
  {
   "cell_type": "markdown",
   "metadata": {},
   "source": [
    "Q13: Houdt u de milieu impact bij"
   ]
  },
  {
   "cell_type": "code",
   "execution_count": 116,
   "metadata": {},
   "outputs": [
    {
     "data": {
      "image/png": "[encoded data removed]",
      "text/plain": [
       "<Figure size 720x432 with 1 Axes>"
      ]
     },
     "metadata": {
      "needs_background": "light"
     },
     "output_type": "display_data"
    },
    {
     "name": "stdout",
     "output_type": "stream",
     "text": [
      "\n",
      "Open tekstantwoorden:\n",
      "1. Wordt door anderen voor ons gedaan, studenten, monitoringprogramma en Rabobank\n",
      "2. ehe hoe dan, alleen echt gezonde planten leggen koolstof vast. Meeste voedselbossen zijn behoorlijk ver van optimale gezondheid. En daarbij de meeste koolstof moet weer vrijkomen om de planten te voeden. Het is geen zink waar je alleen maar opslaat maar je wil juist veel koolstof in de bodem zodat deze weer vrij kan komen als de planten het nodig hebben!\n",
      "3. Nee laat maar geoeien\n",
      "4.  We maken jaarverslagen waarin we onze ecologische, maatschappelijke en culturele impact tonen \n",
      "5. Nee geen tijd voor\n",
      "6. we informeren elkaar (groepsapp en nieuwsbrief), en het voedselbos wordt tot in detail bijgehouden in GIS\n",
      "7. Nee, geen (priori)tijd\n"
     ]
    }
   ],
   "source": [
    "# Identify Q13 column\n",
    "q13_column = \"Q13\"\n",
    "\n",
    "# Count frequency of responses for Q13\n",
    "q13_response_counts = clean_df[q13_column].value_counts().sort_index()\n",
    "\n",
    "# Check if there is a text response column associated with Q13\n",
    "q13_text_column = [col for col in clean_df.columns if col.startswith(\"Q13\") and col.endswith(\"TEXT\")]\n",
    "\n",
    "# Extract open-ended responses if available\n",
    "if q13_text_column:\n",
    "    q13_open_responses = clean_df[q13_text_column[0]].dropna().reset_index(drop=True)\n",
    "else:\n",
    "    q13_open_responses = []\n",
    "\n",
    "q13_response_counts, q13_open_responses\n",
    "\n",
    "import matplotlib.pyplot as plt\n",
    "\n",
    "# Map Q13 response values to labels\n",
    "q13_mapping = {\n",
    "    \"1\": \"Ja, op officiële wijze\",\n",
    "    \"2\": \"Ja, maar alleen informeel\",\n",
    "    \"3\": \"Nee, maar ik zou het wel willen\",\n",
    "    \"4\": \"Nee, en ik zie de noodzaak er niet van\",\n",
    "    \"5\": \"Anders (specificeer)\"\n",
    "}\n",
    "\n",
    "# Convert Q13 responses to strings for mapping\n",
    "q13_mapped = clean_df[\"Q13\"].astype(str).map(q13_mapping)\n",
    "\n",
    "# Count frequency of each response\n",
    "q13_counts = q13_mapped.value_counts().sort_values(ascending=True)\n",
    "\n",
    "# Plot\n",
    "plt.figure(figsize=(10, 6))\n",
    "plt.barh(q13_counts.index, q13_counts.values, color=\"darkgreen\")\n",
    "plt.xlabel(\"Aantal respondenten\")\n",
    "plt.title(\"Houdt u momenteel de impact van uw voedselbos op het milieu bij? (Q13)\")\n",
    "plt.tight_layout()\n",
    "plt.show()\n",
    "\n",
    "# Show open text responses if any\n",
    "if \"Q13_5_TEXT\" in clean_df.columns:\n",
    "    q13_open_responses = clean_df[\"Q13_5_TEXT\"].dropna().reset_index(drop=True)\n",
    "    print(\"\\nOpen tekstantwoorden:\")\n",
    "    for i, response in enumerate(q13_open_responses, 1):\n",
    "        print(f\"{i}. {response}\")\n"
   ]
  },
  {
   "cell_type": "code",
   "execution_count": null,
   "metadata": {},
   "outputs": [],
   "source": []
  },
  {
   "cell_type": "markdown",
   "metadata": {},
   "source": [
    "Q14: Houdt u een database bij met de producten die u verkoopt in uw voedselbos?"
   ]
  },
  {
   "cell_type": "code",
   "execution_count": 114,
   "metadata": {},
   "outputs": [
    {
     "data": {
      "text/plain": [
       "(No     31\n",
       " Yes     6\n",
       " Name: Q14, dtype: int64,\n",
       " 0                                                   nvt\n",
       " 1                             Verkopen nog niet serieus\n",
       " 2                                   het is nog minimaal\n",
       " 3                                 Te veel administratie\n",
       " 4                                          te veel werk\n",
       " 5                            Nog niet genoeg producten.\n",
       " 6                           Productie is nog zeer laag \n",
       " 7                              Niet gericht op verkoop \n",
       " 8                                      Nog geen verkoop\n",
       " 9                                             Kost tijd\n",
       " 10                                   We verkopen niets \n",
       " 11                                           veel gedoe\n",
       " 12                       Daarvoor is het nog te weinig.\n",
       " 13                                         verkoop niet\n",
       " 14                                            geen tijd\n",
       " 15                        normaal zou je dat wel doen. \n",
       " 16                                                  Nvt\n",
       " 17                                  Ik verkoop nog niks\n",
       " 18                                      nog niet nodig.\n",
       " 19    verkoop is (nog) niet belangrijk voor ons. Het...\n",
       " 20                                       geen belang nu\n",
       " 21    die worden geoogst door de vrijwilligers die o...\n",
       " 22                                          teveel werk\n",
       " 23    we zijn nog volop met de ontwikkeling bezig. e...\n",
       " 24                  Nog weinig producten om te verkopen\n",
       " 25                                  ik verkoop nu niets\n",
       " 26       Er is nog maar heel weinig product te verkopen\n",
       " 27    Ik zet alles in mijn winkel (of eet het zelf o...\n",
       " 28                    er is nog te weinig om te oogsten\n",
       " Name: Q14_2_TEXT, dtype: object)"
      ]
     },
     "execution_count": 114,
     "metadata": {},
     "output_type": "execute_result"
    }
   ],
   "source": [
    "# Define mapping for Q14 responses\n",
    "q14_mapping = {\n",
    "    \"1\": \"Yes\",\n",
    "    \"2\": \"No\"\n",
    "}\n",
    "\n",
    "# Map Q14 values to human-readable text\n",
    "q14_mapped = clean_df[\"Q14\"].map(q14_mapping)\n",
    "\n",
    "# Count frequency of each response\n",
    "q14_response_counts_named = q14_mapped.value_counts().sort_index()\n",
    "\n",
    "# Extract open-ended responses (for those who answered \"No\")\n",
    "q14_open_responses = clean_df.loc[clean_df[\"Q14\"] == \"2\", \"Q14_2_TEXT\"].dropna().reset_index(drop=True)\n",
    "\n",
    "q14_response_counts_named, q14_open_responses\n"
   ]
  },
  {
   "cell_type": "code",
   "execution_count": null,
   "metadata": {},
   "outputs": [],
   "source": []
  }
 ],
 "metadata": {
  "kernelspec": {
   "display_name": "base",
   "language": "python",
   "name": "python3"
  },
  "language_info": {
   "codemirror_mode": {
    "name": "ipython",
    "version": 3
   },
   "file_extension": ".py",
   "mimetype": "text/x-python",
   "name": "python",
   "nbconvert_exporter": "python",
   "pygments_lexer": "ipython3",
   "version": "3.9.12"
  }
 },
 "nbformat": 4,
 "nbformat_minor": 2
}
