{
 "cells": [
  {
   "cell_type": "code",
   "execution_count": 2,
   "metadata": {},
   "outputs": [
    {
     "name": "stdout",
     "output_type": "stream",
     "text": [
      "✅ Data saved to biodiversiteit_data.csv\n"
     ]
    }
   ],
   "source": [
    "import json\n",
    "import csv\n",
    "\n",
    "# Step 1: Load the JSON file\n",
    "with open(\"biodiversiteit_test\", \"r\", encoding=\"utf-8\") as f:\n",
    "    data = json.load(f)\n",
    "\n",
    "# Step 2: Determine all column names (metadata + plant species)\n",
    "columns = set()\n",
    "for record in data:\n",
    "    columns.update(record.keys())\n",
    "\n",
    "# Optional: put some common fields first\n",
    "standard_fields = [\n",
    "    \"titel\", \"grondsoort\", \"grondwaterstand\", \"Biodiversiteitsindex\", \n",
    "    \"startjaar\", \"leeftijd plot\", \"oppervlak\", \"Datum\"\n",
    "]\n",
    "# Ensure column order: standard fields first, then the rest\n",
    "all_columns = standard_fields + sorted(columns - set(standard_fields))\n",
    "\n",
    "# Step 3: Write to CSV\n",
    "with open(\"biodiversiteit_data.csv\", \"w\", newline='', encoding=\"utf-8\") as f:\n",
    "    writer = csv.DictWriter(f, fieldnames=all_columns)\n",
    "    writer.writeheader()\n",
    "    for record in data:\n",
    "        writer.writerow(record)\n",
    "\n",
    "print(\"✅ Data saved to biodiversiteit_data.csv\")\n"
   ]
  },
  {
   "cell_type": "code",
   "execution_count": null,
   "metadata": {},
   "outputs": [],
   "source": [
    "import json\n",
    "import csv\n",
    "\n",
    "# Step 1: Load the JSON file\n",
    "with open(\"biodiversiteit_test\", \"r\", encoding=\"utf-8\") as f:\n",
    "    data = json.load(f)\n",
    "\n",
    "# Step 2: Determine all column names (metadata + plant species)\n",
    "columns = set()\n",
    "for record in data:\n",
    "    columns.update(record.keys())\n",
    "\n",
    "# Optional: put some common fields first\n",
    "standard_fields = [\n",
    "    \"titel\", \"grondsoort\", \"grondwaterstand\", \"Biodiversiteitsindex\", \n",
    "    \"startjaar\", \"leeftijd plot\", \"oppervlak\", \"Datum\"\n",
    "]\n",
    "# Ensure column order: standard fields first, then the rest\n",
    "all_columns = standard_fields + sorted(columns - set(standard_fields))\n",
    "\n",
    "# Step 3: Write to CSV\n",
    "with open(\"biodiversiteit_data.csv\", \"w\", newline='', encoding=\"utf-8\") as f:\n",
    "    writer = csv.DictWriter(f, fieldnames=all_columns)\n",
    "    writer.writeheader()\n",
    "    for record in data:\n",
    "        writer.writerow(record)\n",
    "\n",
    "print(\"✅ Data saved to biodiversiteit_data.csv\")\n"
   ]
  }
 ],
 "metadata": {
  "kernelspec": {
   "display_name": "base",
   "language": "python",
   "name": "python3"
  },
  "language_info": {
   "codemirror_mode": {
    "name": "ipython",
    "version": 3
   },
   "file_extension": ".py",
   "mimetype": "text/x-python",
   "name": "python",
   "nbconvert_exporter": "python",
   "pygments_lexer": "ipython3",
   "version": "3.12.2"
  }
 },
 "nbformat": 4,
 "nbformat_minor": 2
}
