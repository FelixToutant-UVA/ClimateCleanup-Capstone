{
 "cells": [
  {
   "cell_type": "code",
   "execution_count": null,
   "id": "a5cd7a58",
   "metadata": {},
   "outputs": [
    {
     "name": "stdout",
     "output_type": "stream",
     "text": [
      "Average Dutch agriculture yield (kg/ha, 2023): 64,244.04\n"
     ]
    }
   ],
   "source": [
    "import pandas as pd\n",
    "\n",
    "df = pd.read_csv(\"FAOSTAT_data_en_6-3-2025.csv\")\n",
    "\n",
    "# Filter for only 'kg/ha' rows in the Netherlands, year 2023\n",
    "df_filtered = df[(df[\"Area\"] == \"Netherlands (Kingdom of the)\") & (df[\"Unit\"] == \"kg/ha\") & (df[\"Year\"] == 2023)]\n",
    "\n",
    "# Calculate the mean yield across all crops as the reference\n",
    "mean_yield_kg_per_ha = df_filtered[\"Value\"].mean()\n",
    "print(f\"Average Dutch agriculture yield (kg/ha, 2023): {mean_yield_kg_per_ha:,.2f}\")\n"
   ]
  },
  {
   "cell_type": "code",
   "execution_count": 89,
   "id": "f0baafb6",
   "metadata": {},
   "outputs": [
    {
     "name": "stdout",
     "output_type": "stream",
     "text": [
      "Land use per kg product (ha): 0.00001557\n"
     ]
    }
   ],
   "source": [
    "use = 1 / mean_yield_kg_per_ha\n",
    "print(f\"Land use per kg product (ha): {use:.8f}\")\n"
   ]
  },
  {
   "cell_type": "code",
   "execution_count": null,
   "id": "1ff801d1",
   "metadata": {},
   "outputs": [],
   "source": []
  }
 ],
 "metadata": {
  "kernelspec": {
   "display_name": "Python 3",
   "language": "python",
   "name": "python3"
  },
  "language_info": {
   "codemirror_mode": {
    "name": "ipython",
    "version": 3
   },
   "file_extension": ".py",
   "mimetype": "text/x-python",
   "name": "python",
   "nbconvert_exporter": "python",
   "pygments_lexer": "ipython3",
   "version": "3.12.0"
  }
 },
 "nbformat": 4,
 "nbformat_minor": 5
}
