{
 "cells": [
  {
   "cell_type": "code",
   "execution_count": null,
   "id": "09775482",
   "metadata": {},
   "outputs": [],
   "source": [
    "import pandas as pd\n",
    "import glob\n",
    "import geopandas as gpd\n",
    "import hdbscan\n",
    "import matplotlib.pyplot as plt\n",
    "from pyproj import Transformer\n",
    "import folium\n"
   ]
  },
  {
   "cell_type": "markdown",
   "id": "60f87444",
   "metadata": {},
   "source": [
    "### Samenvoegen van alle meetputen "
   ]
  },
  {
   "cell_type": "code",
   "execution_count": 4,
   "id": "7f305da5",
   "metadata": {},
   "outputs": [
    {
     "name": "stdout",
     "output_type": "stream",
     "text": [
      "Totaal aantal meetpunten: 3342\n",
      "Alle meetpunten opgeslagen in 'all_meetpunten.csv'\n"
     ]
    }
   ],
   "source": [
    "# Alle meetpunten inladen vanuit subfolders van Meetpunten\n",
    "csv_files = glob.glob('Meetpunten/*/*.csv')  # zoekt in alle subfolders\n",
    "\n",
    "# DataFrames inlezen en samenvoegen\n",
    "df_list = []\n",
    "for file in csv_files:\n",
    "    df = pd.read_csv(file, sep=';', encoding='utf-8')  # gebruik ';' als delimiter\n",
    "    df_list.append(df)\n",
    "\n",
    "# Samenvoegen in één DataFrame\n",
    "df_all = pd.concat(df_list, ignore_index=True)\n",
    "print(f\"Totaal aantal meetpunten: {len(df_all)}\")\n",
    "\n",
    "# Exporteren naar CSV\n",
    "df_all.to_csv('all_meetpunten.csv', index=False)\n",
    "print(\"Alle meetpunten opgeslagen in 'all_meetpunten.csv'\")\n"
   ]
  },
  {
   "cell_type": "markdown",
   "id": "8ac950fc",
   "metadata": {},
   "source": [
    "### Clusters maken"
   ]
  },
  {
   "cell_type": "code",
   "execution_count": 7,
   "id": "553f3b02",
   "metadata": {},
   "outputs": [
    {
     "name": "stdout",
     "output_type": "stream",
     "text": [
      "CSV 'meetpunten_met_clusters.csv' opgeslagen met cluster labels.\n"
     ]
    }
   ],
   "source": [
    "# 2. Clustering met HDBSCAN op RD-coördinaten (meters)\n",
    "# Zorg dat de kolommen 'GeometriePuntX_RD' en 'GeometriePuntY_RD' bestaan\n",
    "df_all = df_all.dropna(subset=['GeometriePuntX_RD', 'GeometriePuntY_RD'])\n",
    "coords = df_all[['GeometriePuntX_RD', 'GeometriePuntY_RD']].values\n",
    "\n",
    "# HDBSCAN-instantie: pas min_cluster_size en min_samples aan naar behoefte\n",
    "clusterer = hdbscan.HDBSCAN(\n",
    "    min_cluster_size=10,\n",
    "    min_samples=1,\n",
    "    metric='euclidean'\n",
    ")\n",
    "labels = clusterer.fit_predict(coords)\n",
    "\n",
    "# 3. Resultaten toevoegen aan DataFrame\n",
    "df_all['cluster_id'] = labels\n",
    "# Optioneel: waarschijnlijkheidscore per punt\n",
    "df_all['cluster_prob'] = clusterer.probabilities_\n",
    "\n",
    "# 4. Opslaan van de CSV met clusters\n",
    "df_all.to_csv('meetpunten_met_clusters.csv', index=False)\n",
    "print(\"CSV 'meetpunten_met_clusters.csv' opgeslagen met cluster labels.\")\n"
   ]
  },
  {
   "cell_type": "markdown",
   "id": "e5da438e",
   "metadata": {},
   "source": [
    "### HTML kaartje maken "
   ]
  },
  {
   "cell_type": "code",
   "execution_count": null,
   "id": "d64b326c",
   "metadata": {},
   "outputs": [
    {
     "name": "stdout",
     "output_type": "stream",
     "text": [
      "Eenvoudige interactieve kaart met gekleurde clusters opgeslagen als 'clusters_map_simple.html'\n"
     ]
    }
   ],
   "source": [
    "# 1. Inladen van de CSV met clusters\n",
    "df_all = pd.read_csv('meetpunten_met_clusters.csv')\n",
    "\n",
    "# 2. Omzetten van RD-coördinaten naar WGS84 (lon, lat)\n",
    "transformer = Transformer.from_crs('EPSG:28992', 'EPSG:4326', always_xy=True)\n",
    "df_all['lon'], df_all['lat'] = transformer.transform(\n",
    "    df_all['GeometriePuntX_RD'].values,\n",
    "    df_all['GeometriePuntY_RD'].values\n",
    ")\n",
    "\n",
    "# 3. Kleuren toewijzen per cluster_id\n",
    "def get_cluster_colors(cluster_ids):\n",
    "    # Voorbeeld kleurenpalet\n",
    "    palette = [\n",
    "        'red', 'blue', 'green', 'purple', 'orange', 'darkred', 'lightred',\n",
    "        'beige', 'darkblue', 'darkgreen', 'cadetblue', 'darkpurple',\n",
    "        'pink', 'lightblue', 'lightgreen', 'gray'\n",
    "    ]\n",
    "    return {cid: palette[i % len(palette)] for i, cid in enumerate(cluster_ids)}\n",
    "\n",
    "cluster_ids = sorted(df_all['cluster_id'].unique())\n",
    "color_map = get_cluster_colors(cluster_ids)\n",
    "\n",
    "# 4. Simpele Folium-kaart maken\n",
    "def create_cluster_map(df, color_map, zoom_start=10):\n",
    "    center = [df['lat'].mean(), df['lon'].mean()]\n",
    "    m = folium.Map(location=center, zoom_start=zoom_start)\n",
    "    for _, row in df.iterrows():\n",
    "        color = color_map.get(row['cluster_id'], 'gray')\n",
    "        folium.CircleMarker(\n",
    "            location=(row['lat'], row['lon']),\n",
    "            radius=4,\n",
    "            color=color,\n",
    "            fill=True,\n",
    "            fill_opacity=0.7,\n",
    "            popup=f\"Cluster: {row['cluster_id']}\"\n",
    "        ).add_to(m)\n",
    "    return m\n",
    "\n",
    "# 5. Maak kaart en sla op als HTML\n",
    "m = create_cluster_map(df_all, color_map)\n",
    "output_file = 'clusters_map_simple.html'\n",
    "m.save(output_file)\n",
    "print(f\"Eenvoudige interactieve kaart met gekleurde clusters opgeslagen als '{output_file}'\")\n"
   ]
  },
  {
   "cell_type": "markdown",
   "id": "0afd690b",
   "metadata": {},
   "source": [
    "### Relevantie van clusters"
   ]
  },
  {
   "cell_type": "code",
   "execution_count": 15,
   "id": "6210a4cb",
   "metadata": {},
   "outputs": [
    {
     "name": "stdout",
     "output_type": "stream",
     "text": [
      "Relevante clusters: [3, 5, 19, 25, 26, 32, 33, 44, 62, 64, 73, 74, 87, 88, 89, 91, 95, 96, 108, 113, 114, 124]\n",
      "meetpunten_met_clusters_relevant.csv opgeslagen met relevante kolom.\n"
     ]
    }
   ],
   "source": [
    "# 1. Inladen van bestaand CSV-bestand met cluster-id's\n",
    "df = pd.read_csv('meetpunten_met_clusters.csv')\n",
    "\n",
    "# 2. Bepaal de set van alle jaren in de dataset\n",
    "all_years = set(df['Meetjaar'].dropna().unique())\n",
    "\n",
    "# 3. Filter noise-cluster (cluster_id = -1) uit voor relevantiebepaling\n",
    "df_non_noise = df[df['cluster_id'] != -1]\n",
    "\n",
    "# 4. Groepeer per cluster en bepaal unieke jaren per cluster\n",
    "cluster_years = (\n",
    "    df_non_noise.groupby('cluster_id')['Meetjaar']\n",
    "    .apply(lambda yrs: set(yrs.dropna().unique()))\n",
    ")\n",
    "\n",
    "# 5. Identificeer relevante clusters (die elk jaar in all_years voorkomen)\n",
    "relevant_clusters = [\n",
    "    cid for cid, yrs in cluster_years.items() if yrs == all_years\n",
    "]\n",
    "print(f\"Relevante clusters: {relevant_clusters}\")\n",
    "\n",
    "# 6. Voeg een nieuwe kolom 'relevant' toe aan de DataFrame\n",
    "#    True als het meetpunt behoort tot een relevante cluster, anders False\n",
    "df['relevant'] = df['cluster_id'].isin(relevant_clusters)\n",
    "\n",
    "# 7. Opslaan van het nieuwe CSV-bestand\n",
    "df.to_csv('meetpunten_met_clusters_relevant.csv', index=False)\n",
    "print(\"meetpunten_met_clusters_relevant.csv opgeslagen met relevante kolom.\")\n"
   ]
  }
 ],
 "metadata": {
  "kernelspec": {
   "display_name": "Python 3.11 (Capstone)",
   "language": "python",
   "name": "py311-capstone"
  },
  "language_info": {
   "codemirror_mode": {
    "name": "ipython",
    "version": 3
   },
   "file_extension": ".py",
   "mimetype": "text/x-python",
   "name": "python",
   "nbconvert_exporter": "python",
   "pygments_lexer": "ipython3",
   "version": "3.11.1"
  }
 },
 "nbformat": 4,
 "nbformat_minor": 5
}
