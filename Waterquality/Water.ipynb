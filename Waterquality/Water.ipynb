{
 "cells": [
  {
   "cell_type": "code",
   "execution_count": 51,
   "id": "09775482",
   "metadata": {},
   "outputs": [],
   "source": [
    "import pandas as pd\n",
    "import glob\n",
    "import geopandas as gpd\n",
    "import hdbscan\n",
    "import matplotlib.pyplot as plt\n",
    "from pyproj import Transformer\n",
    "import folium\n",
    "import re\n",
    "import numpy as np\n"
   ]
  },
  {
   "cell_type": "markdown",
   "id": "60f87444",
   "metadata": {},
   "source": [
    "### Samenvoegen van alle meetputen "
   ]
  },
  {
   "cell_type": "code",
   "execution_count": 4,
   "id": "7f305da5",
   "metadata": {},
   "outputs": [
    {
     "name": "stdout",
     "output_type": "stream",
     "text": [
      "Totaal aantal meetpunten: 3342\n",
      "Alle meetpunten opgeslagen in 'all_meetpunten.csv'\n"
     ]
    }
   ],
   "source": [
    "# Alle meetpunten inladen vanuit subfolders van Meetpunten\n",
    "csv_files = glob.glob('Meetpunten/*/*.csv')  # zoekt in alle subfolders\n",
    "\n",
    "# DataFrames inlezen en samenvoegen\n",
    "df_list = []\n",
    "for file in csv_files:\n",
    "    df = pd.read_csv(file, sep=';', encoding='utf-8')  # gebruik ';' als delimiter\n",
    "    df_list.append(df)\n",
    "\n",
    "# Samenvoegen in één DataFrame\n",
    "df_all = pd.concat(df_list, ignore_index=True)\n",
    "print(f\"Totaal aantal meetpunten: {len(df_all)}\")\n",
    "\n",
    "# Exporteren naar CSV\n",
    "df_all.to_csv('all_meetpunten.csv', index=False)\n",
    "print(\"Alle meetpunten opgeslagen in 'all_meetpunten.csv'\")\n"
   ]
  },
  {
   "cell_type": "markdown",
   "id": "8ac950fc",
   "metadata": {},
   "source": [
    "### Clusters maken"
   ]
  },
  {
   "cell_type": "code",
   "execution_count": 7,
   "id": "553f3b02",
   "metadata": {},
   "outputs": [
    {
     "name": "stdout",
     "output_type": "stream",
     "text": [
      "CSV 'meetpunten_met_clusters.csv' opgeslagen met cluster labels.\n"
     ]
    }
   ],
   "source": [
    "# 2. Clustering met HDBSCAN op RD-coördinaten (meters)\n",
    "# Zorg dat de kolommen 'GeometriePuntX_RD' en 'GeometriePuntY_RD' bestaan\n",
    "df_all = df_all.dropna(subset=['GeometriePuntX_RD', 'GeometriePuntY_RD'])\n",
    "coords = df_all[['GeometriePuntX_RD', 'GeometriePuntY_RD']].values\n",
    "\n",
    "# HDBSCAN-instantie: pas min_cluster_size en min_samples aan naar behoefte\n",
    "clusterer = hdbscan.HDBSCAN(\n",
    "    min_cluster_size=10,\n",
    "    min_samples=1,\n",
    "    metric='euclidean'\n",
    ")\n",
    "labels = clusterer.fit_predict(coords)\n",
    "\n",
    "# 3. Resultaten toevoegen aan DataFrame\n",
    "df_all['cluster_id'] = labels\n",
    "# Optioneel: waarschijnlijkheidscore per punt\n",
    "df_all['cluster_prob'] = clusterer.probabilities_\n",
    "\n",
    "# 4. Opslaan van de CSV met clusters\n",
    "df_all.to_csv('meetpunten_met_clusters.csv', index=False)\n",
    "print(\"CSV 'meetpunten_met_clusters.csv' opgeslagen met cluster labels.\")\n"
   ]
  },
  {
   "cell_type": "markdown",
   "id": "e5da438e",
   "metadata": {},
   "source": [
    "### HTML kaartje maken "
   ]
  },
  {
   "cell_type": "code",
   "execution_count": null,
   "id": "d64b326c",
   "metadata": {},
   "outputs": [
    {
     "name": "stdout",
     "output_type": "stream",
     "text": [
      "Eenvoudige interactieve kaart met gekleurde clusters opgeslagen als 'clusters_map_simple.html'\n"
     ]
    }
   ],
   "source": [
    "# 1. Inladen van de CSV met clusters\n",
    "df_all = pd.read_csv('meetpunten_met_clusters.csv')\n",
    "\n",
    "# 2. Omzetten van RD-coördinaten naar WGS84 (lon, lat)\n",
    "transformer = Transformer.from_crs('EPSG:28992', 'EPSG:4326', always_xy=True)\n",
    "df_all['lon'], df_all['lat'] = transformer.transform(\n",
    "    df_all['GeometriePuntX_RD'].values,\n",
    "    df_all['GeometriePuntY_RD'].values\n",
    ")\n",
    "\n",
    "# 3. Kleuren toewijzen per cluster_id\n",
    "def get_cluster_colors(cluster_ids):\n",
    "    # Voorbeeld kleurenpalet\n",
    "    palette = [\n",
    "        'red', 'blue', 'green', 'purple', 'orange', 'darkred', 'lightred',\n",
    "        'beige', 'darkblue', 'darkgreen', 'cadetblue', 'darkpurple',\n",
    "        'pink', 'lightblue', 'lightgreen', 'gray'\n",
    "    ]\n",
    "    return {cid: palette[i % len(palette)] for i, cid in enumerate(cluster_ids)}\n",
    "\n",
    "cluster_ids = sorted(df_all['cluster_id'].unique())\n",
    "color_map = get_cluster_colors(cluster_ids)\n",
    "\n",
    "# 4. Simpele Folium-kaart maken\n",
    "def create_cluster_map(df, color_map, zoom_start=10):\n",
    "    center = [df['lat'].mean(), df['lon'].mean()]\n",
    "    m = folium.Map(location=center, zoom_start=zoom_start)\n",
    "    for _, row in df.iterrows():\n",
    "        color = color_map.get(row['cluster_id'], 'gray')\n",
    "        folium.CircleMarker(\n",
    "            location=(row['lat'], row['lon']),\n",
    "            radius=4,\n",
    "            color=color,\n",
    "            fill=True,\n",
    "            fill_opacity=0.7,\n",
    "            popup=f\"Cluster: {row['cluster_id']}\"\n",
    "        ).add_to(m)\n",
    "    return m\n",
    "\n",
    "# 5. Maak kaart en sla op als HTML\n",
    "m = create_cluster_map(df_all, color_map)\n",
    "output_file = 'clusters_map_simple.html'\n",
    "m.save(output_file)\n",
    "print(f\"Eenvoudige interactieve kaart met gekleurde clusters opgeslagen als '{output_file}'\")\n"
   ]
  },
  {
   "cell_type": "markdown",
   "id": "0afd690b",
   "metadata": {},
   "source": [
    "### Relevantie van clusters"
   ]
  },
  {
   "cell_type": "code",
   "execution_count": null,
   "id": "6210a4cb",
   "metadata": {},
   "outputs": [
    {
     "name": "stdout",
     "output_type": "stream",
     "text": [
      "Relevante clusters: [3, 5, 19, 25, 26, 32, 33, 44, 62, 64, 73, 74, 87, 88, 89, 91, 95, 96, 108, 113, 114, 124]\n",
      "meetpunten_met_clusters_relevant.csv opgeslagen met relevante kolom.\n",
      "CSV 'stoffen_cluster_counts.csv' opgeslagen met frequentie van relevante stoffen in clusters.\n"
     ]
    }
   ],
   "source": [
    "# 1. Inladen van bestaand CSV-bestand met cluster-id's\n",
    "df = pd.read_csv('meetpunten_met_clusters.csv')\n",
    "\n",
    "# 2. Bepaal de set van alle jaren in de dataset\n",
    "all_years = set(df['Meetjaar'].dropna().unique())\n",
    "\n",
    "# 3. Filter noise-cluster (cluster_id = -1) uit voor relevantiebepaling\n",
    "df_non_noise = df[df['cluster_id'] != -1]\n",
    "\n",
    "# 4. Groepeer per cluster en bepaal unieke jaren per cluster\n",
    "cluster_years = (\n",
    "    df_non_noise.groupby('cluster_id')['Meetjaar']\n",
    "    .apply(lambda yrs: set(yrs.dropna().unique()))\n",
    ")\n",
    "\n",
    "# 5. Identificeer relevante clusters (die elk jaar in all_years voorkomen)\n",
    "relevant_clusters = [\n",
    "    cid for cid, yrs in cluster_years.items() if yrs == all_years\n",
    "]\n",
    "print(f\"Relevante clusters: {relevant_clusters}\")\n",
    "\n",
    "# 6. Voeg een nieuwe kolom 'relevant' toe aan de DataFrame\n",
    "#    True als het meetpunt behoort tot een relevante cluster, anders False\n",
    "df['relevant'] = df['cluster_id'].isin(relevant_clusters)\n",
    "\n",
    "# 7. Opslaan van het nieuwe CSV-bestand\n",
    "df.to_csv('meetpunten_met_clusters_relevant.csv', index=False)\n",
    "print(\"meetpunten_met_clusters_relevant.csv opgeslagen met relevante kolom.\")\n"
   ]
  },
  {
   "cell_type": "markdown",
   "id": "f6577443",
   "metadata": {},
   "source": [
    "### Samenvoegen meetwaarden en meetpunten clusters"
   ]
  },
  {
   "cell_type": "code",
   "execution_count": null,
   "id": "ec15346a",
   "metadata": {},
   "outputs": [
    {
     "name": "stdout",
     "output_type": "stream",
     "text": [
      "Voedselbossen geladen: 247 records\n",
      "Forest columns: ['Voedselbos', 'Website', 'Tel.', 'Email', 'Naam', 'Eerste aanplant', 'Grootte', 'Ondernemingsvorm', 'Type', 'Ontwerp', 'Provincie', 'Op de Green Deal voedselbossen kaart', 'Voedsel uit het Bos', 'Stichting Voedselbosbouw', 'Nationale Monitoringsprogramma Voedselbossen', 'Overige platforms', 'Lat', 'Lon']\n"
     ]
    },
    {
     "ename": "AttributeError",
     "evalue": "'DataFrame' object has no attribute 'Longitude'",
     "output_type": "error",
     "traceback": [
      "\u001b[0;31m---------------------------------------------------------------------------\u001b[0m",
      "\u001b[0;31mAttributeError\u001b[0m                            Traceback (most recent call last)",
      "Cell \u001b[0;32mIn[34], line 19\u001b[0m\n\u001b[1;32m     14\u001b[0m \u001b[38;5;28mprint\u001b[39m(\u001b[38;5;124m\"\u001b[39m\u001b[38;5;124mForest columns:\u001b[39m\u001b[38;5;124m\"\u001b[39m, df_forest\u001b[38;5;241m.\u001b[39mcolumns\u001b[38;5;241m.\u001b[39mtolist())\n\u001b[1;32m     16\u001b[0m \u001b[38;5;66;03m# 0b. Maak GeoDataFrame van voedselbossen (aanname: kolommen 'Longitude','Latitude')\u001b[39;00m\n\u001b[1;32m     17\u001b[0m gdf_forest \u001b[38;5;241m=\u001b[39m gpd\u001b[38;5;241m.\u001b[39mGeoDataFrame(\n\u001b[1;32m     18\u001b[0m     df_forest,\n\u001b[0;32m---> 19\u001b[0m     geometry\u001b[38;5;241m=\u001b[39mgpd\u001b[38;5;241m.\u001b[39mpoints_from_xy(\u001b[43mdf_forest\u001b[49m\u001b[38;5;241;43m.\u001b[39;49m\u001b[43mLongitude\u001b[49m, df_forest\u001b[38;5;241m.\u001b[39mLatitude),\n\u001b[1;32m     20\u001b[0m     crs\u001b[38;5;241m=\u001b[39m\u001b[38;5;124m'\u001b[39m\u001b[38;5;124mEPSG:4326\u001b[39m\u001b[38;5;124m'\u001b[39m\n\u001b[1;32m     21\u001b[0m )\n\u001b[1;32m     22\u001b[0m \u001b[38;5;66;03m# Reproject naar RD New (meter-eenheden)\u001b[39;00m\n\u001b[1;32m     23\u001b[0m gdf_forest \u001b[38;5;241m=\u001b[39m gdf_forest\u001b[38;5;241m.\u001b[39mto_crs(\u001b[38;5;124m'\u001b[39m\u001b[38;5;124mEPSG:28992\u001b[39m\u001b[38;5;124m'\u001b[39m)\n",
      "File \u001b[0;32m/Library/Frameworks/Python.framework/Versions/3.11/lib/python3.11/site-packages/pandas/core/generic.py:6299\u001b[0m, in \u001b[0;36mNDFrame.__getattr__\u001b[0;34m(self, name)\u001b[0m\n\u001b[1;32m   6292\u001b[0m \u001b[38;5;28;01mif\u001b[39;00m (\n\u001b[1;32m   6293\u001b[0m     name \u001b[38;5;129;01mnot\u001b[39;00m \u001b[38;5;129;01min\u001b[39;00m \u001b[38;5;28mself\u001b[39m\u001b[38;5;241m.\u001b[39m_internal_names_set\n\u001b[1;32m   6294\u001b[0m     \u001b[38;5;129;01mand\u001b[39;00m name \u001b[38;5;129;01mnot\u001b[39;00m \u001b[38;5;129;01min\u001b[39;00m \u001b[38;5;28mself\u001b[39m\u001b[38;5;241m.\u001b[39m_metadata\n\u001b[1;32m   6295\u001b[0m     \u001b[38;5;129;01mand\u001b[39;00m name \u001b[38;5;129;01mnot\u001b[39;00m \u001b[38;5;129;01min\u001b[39;00m \u001b[38;5;28mself\u001b[39m\u001b[38;5;241m.\u001b[39m_accessors\n\u001b[1;32m   6296\u001b[0m     \u001b[38;5;129;01mand\u001b[39;00m \u001b[38;5;28mself\u001b[39m\u001b[38;5;241m.\u001b[39m_info_axis\u001b[38;5;241m.\u001b[39m_can_hold_identifiers_and_holds_name(name)\n\u001b[1;32m   6297\u001b[0m ):\n\u001b[1;32m   6298\u001b[0m     \u001b[38;5;28;01mreturn\u001b[39;00m \u001b[38;5;28mself\u001b[39m[name]\n\u001b[0;32m-> 6299\u001b[0m \u001b[38;5;28;01mreturn\u001b[39;00m \u001b[38;5;28;43mobject\u001b[39;49m\u001b[38;5;241;43m.\u001b[39;49m\u001b[38;5;21;43m__getattribute__\u001b[39;49m\u001b[43m(\u001b[49m\u001b[38;5;28;43mself\u001b[39;49m\u001b[43m,\u001b[49m\u001b[43m \u001b[49m\u001b[43mname\u001b[49m\u001b[43m)\u001b[49m\n",
      "\u001b[0;31mAttributeError\u001b[0m: 'DataFrame' object has no attribute 'Longitude'"
     ]
    }
   ],
   "source": [
    "# -------------------------\n",
    "# 1. Inladen van meetpunten met clusters en relevantie\n",
    "# -------------------------\n",
    "df_clusters = pd.read_csv('meetpunten_met_clusters_relevant.csv')\n",
    "# Unieke mapping per MeetobjectCode\n",
    "# Alleen meetpunten in relevante clusters (relevant == True) behouden\n",
    "df_clusters_relevant = (\n",
    "    df_clusters[df_clusters['relevant']]\n",
    "    [['MeetobjectCode', 'cluster_id']]\n",
    "    .drop_duplicates(subset=['MeetobjectCode'])\n",
    ")\n",
    "\n",
    "# -------------------------\n",
    "# 2. Inladen en samenvoegen van meetwaarden (2016–2024)\n",
    "# -------------------------\n",
    "meetwaarden_files = glob.glob('Meetwaarden/Waterschap Brabantse Delta/WKP_Meetwaarden_Waterschap Brabantse Delta_*.csv')\n",
    "waarden_list = []\n",
    "for file in meetwaarden_files:\n",
    "    # Jaar uit bestandsnaam halen (bv. '_2016_')\n",
    "    match = re.search(r'_(\\d{4})_', file)\n",
    "    jaar = int(match.group(1)) if match else None\n",
    "    df = pd.read_csv(file, sep=';', encoding='utf-8')\n",
    "    df['year'] = jaar\n",
    "    waarden_list.append(df)\n",
    "# Samenvoegen van alle meetwaarden\n",
    "df_waarden = pd.concat(waarden_list, ignore_index=True)\n",
    "print(f\"Totaal aantal meetwaardenrijen: {len(df_waarden)}\")\n",
    "\n",
    "# -------------------------\n",
    "# 3. Merge meetwaarden met alleen relevante clusters\n",
    "df_merged = df_waarden.merge(\n",
    "    df_clusters_relevant,\n",
    "    on='MeetobjectCode',\n",
    "    how='inner'  # alleen waarden met relevante meetpunten behouden\n",
    ")\n",
    "print(f\"Aantal rijen na inner merge op relevante clusters: {len(df_merged)}\")\n",
    "\n",
    "# -------------------------\n",
    "# 4. Bepalen van relevante stoffen per cluster\n",
    "# -------------------------\n",
    "# Set van alle jaren van interesse in de data\n",
    "total_years = set(df_merged['year'].dropna().unique())\n",
    "print(f\"Jaren in dataset: {sorted(total_years)}\")\n",
    "\n",
    "# Groepeer per cluster en stof en verzamel gemeten jaren\n",
    "grouped = (\n",
    "    df_merged\n",
    "    .groupby(['cluster_id', 'ParameterOmschrijving'])['year']\n",
    "    .apply(lambda yrs: set(yrs.dropna().unique()))\n",
    "    .reset_index(name='years_measured')\n",
    ")\n",
    "# Markeer stoffen die in elk jaar van hun cluster zijn gemeten\n",
    "grouped['relevant_stof'] = grouped['years_measured'].apply(\n",
    "    lambda s: s == total_years\n",
    ")\n",
    "\n",
    "# Filter op relevante stoffen per cluster\n",
    "grouped_relevant = grouped[grouped['relevant_stof']]\n",
    "print(f\"Aantal relevante cluster-stof combinaties: {len(grouped_relevant)}\")\n",
    "\n",
    "# -------------------------\n",
    "# 5. Bepalen van globale relevantie over alle clusters\n",
    "# -------------------------\n",
    "df_counts = (\n",
    "    grouped_relevant\n",
    "    .groupby('ParameterOmschrijving')['cluster_id']\n",
    "    .nunique()\n",
    "    .reset_index(name='count_clusters')\n",
    "    .sort_values('count_clusters', ascending=False)\n",
    ")\n",
    "print(\"Top 10 stoffen met hoogste cluster frequentie:\")\n",
    "print(df_counts.head(40))\n",
    "\n",
    "# Optioneel: bepalen hoeveel clusters er analyseerbaar zijn\n",
    "total_clusters = df_clusters_relevant['cluster_id'].nunique()\n",
    "print(f\"Totaal aantal relevante clusters: {total_clusters}\")\n",
    "\n",
    "# Stoffen die in alle relevante clusters voorkomen (indien gewenst)\n",
    "top_all = df_counts[df_counts['count_clusters'] == total_clusters]\n",
    "print(f\"Stoffen in alle {total_clusters} relevante clusters: {top_all['ParameterOmschrijving'].tolist()}\")\n",
    "\n",
    "# -------------------------\n",
    "# 6. Opslaan van frequentietabel naar CSV\n",
    "# -------------------------\n",
    "# Schrijft alle stoffen met hun aantal relevante clusters naar een CSV-bestand\n",
    "output_path = 'stoffen_cluster_counts.csv'\n",
    "df_counts.to_csv(output_path, index=False)\n",
    "print(f\"CSV '{output_path}' opgeslagen met frequentie van relevante stoffen in clusters.\")\n",
    "\n"
   ]
  },
  {
   "cell_type": "code",
   "execution_count": 53,
   "id": "d58a593c",
   "metadata": {},
   "outputs": [
    {
     "name": "stdout",
     "output_type": "stream",
     "text": [
      "Nieuw bestand weggeschreven: 'meetpunten_met_clusters_relevant_met_bos.csv'\n"
     ]
    }
   ],
   "source": [
    "import pandas as pd\n",
    "import numpy as np\n",
    "from pyproj import Transformer\n",
    "\n",
    "# 1) Inladen relevante clusters\n",
    "df_clusters = pd.read_csv('meetpunten_met_clusters_relevant.csv')\n",
    "df_clusters = df_clusters[df_clusters['relevant']].drop_duplicates('cluster_id')\n",
    "\n",
    "# 2) Inladen voedselbossen en coördinaten omzetten\n",
    "df_forest = pd.read_excel('Book4.xlsx')\n",
    "# Excel-coördinaten zijn RD-meters * 1e6, dus schalen\n",
    "df_forest['lon_deg'] = df_forest['Lon'] / 1e6\n",
    "df_forest['lat_deg'] = df_forest['Lat'] / 1e6\n",
    "\n",
    "# Projectie WGS84 → RD New\n",
    "transformer = Transformer.from_crs('EPSG:4326', 'EPSG:28992', always_xy=True)\n",
    "df_forest['x_rd'], df_forest['y_rd'] = transformer.transform(\n",
    "    df_forest['lon_deg'].values,\n",
    "    df_forest['lat_deg'].values\n",
    ")\n",
    "\n",
    "# 3) Voor ieder cluster het dichtstbijzijnde bos binnen 2 km bepalen\n",
    "results = []\n",
    "for _, cl in df_clusters.iterrows():\n",
    "    x0, y0 = cl['GeometriePuntX_RD'], cl['GeometriePuntY_RD']\n",
    "    d2 = (df_forest['x_rd'] - x0)**2 + (df_forest['y_rd'] - y0)**2\n",
    "    idx = d2.idxmin()\n",
    "    dist = np.sqrt(d2.loc[idx])\n",
    "    if dist <= 2000:\n",
    "        results.append({\n",
    "            'cluster_id': cl['cluster_id'],\n",
    "            'Naam': df_forest.at[idx, 'Naam'],\n",
    "            'Grootte': df_forest.at[idx, 'Grootte'],\n",
    "            'Eerste aanplant': df_forest.at[idx, 'Eerste aanplant'],\n",
    "            'distance_m': dist\n",
    "        })\n",
    "\n",
    "df_forest_map = pd.DataFrame(results)\n",
    "\n",
    "# 4) Merge met je meetpunten_per_cluster file\n",
    "df_expanded = pd.merge(\n",
    "    pd.read_csv('meetpunten_met_clusters_relevant.csv'),\n",
    "    df_forest_map,\n",
    "    on='cluster_id',\n",
    "    how='left'\n",
    ")\n",
    "\n",
    "# 5) Opslaan\n",
    "df_expanded.to_csv(\n",
    "    'meetpunten_met_clusters_relevant_met_bos.csv',\n",
    "    index=False\n",
    ")\n",
    "print(\"Nieuw bestand weggeschreven: 'meetpunten_met_clusters_relevant_met_bos.csv'\")\n"
   ]
  }
 ],
 "metadata": {
  "kernelspec": {
   "display_name": "Python 3.11 (Capstone)",
   "language": "python",
   "name": "py311-capstone"
  },
  "language_info": {
   "codemirror_mode": {
    "name": "ipython",
    "version": 3
   },
   "file_extension": ".py",
   "mimetype": "text/x-python",
   "name": "python",
   "nbconvert_exporter": "python",
   "pygments_lexer": "ipython3",
   "version": "3.11.1"
  }
 },
 "nbformat": 4,
 "nbformat_minor": 5
}
