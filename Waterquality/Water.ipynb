{
 "cells": [
  {
   "cell_type": "code",
   "execution_count": null,
   "id": "7f305da5",
   "metadata": {},
   "outputs": [],
   "source": [
    "import pandas as pd\n",
    "import glob\n",
    "\n",
    "# Alle meetpunten inladen vanuit Waterquality/Meetpunten\n",
    "csv_files = glob.glob('Waterquality/Meetpunten/*.csv')\n",
    "df_list = []\n",
    "for file in csv_files:\n",
    "    print(f\"Laden van bestand: {file}\")\n",
    "    df = pd.read_csv(file)\n",
    "    df_list.append(df)\n",
    "\n",
    "# Samenvoegen in één DataFrame\n",
    "df_all = pd.concat(df_list, ignore_index=True)\n",
    "print(f\"Totaal aantal meetpunten: {len(df_all)}\")\n",
    "\n",
    "# Exporteren naar CSV\n",
    "output_path = 'all_meetpunten.csv'\n",
    "df_all.to_csv(output_path, index=False)\n",
    "print(f\"Alle meetpunten opgeslagen in '{output_path}'\")\n"
   ]
  }
 ],
 "metadata": {
  "language_info": {
   "name": "python"
  }
 },
 "nbformat": 4,
 "nbformat_minor": 5
}
