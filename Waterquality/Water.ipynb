{
 "cells": [
  {
   "cell_type": "code",
   "execution_count": 16,
   "id": "09775482",
   "metadata": {},
   "outputs": [],
   "source": [
    "import pandas as pd\n",
    "import glob\n",
    "import geopandas as gpd\n",
    "import hdbscan\n",
    "import matplotlib.pyplot as plt\n",
    "from pyproj import Transformer\n",
    "import folium\n",
    "import re\n"
   ]
  },
  {
   "cell_type": "markdown",
   "id": "60f87444",
   "metadata": {},
   "source": [
    "### Samenvoegen van alle meetputen "
   ]
  },
  {
   "cell_type": "code",
   "execution_count": 4,
   "id": "7f305da5",
   "metadata": {},
   "outputs": [
    {
     "name": "stdout",
     "output_type": "stream",
     "text": [
      "Totaal aantal meetpunten: 3342\n",
      "Alle meetpunten opgeslagen in 'all_meetpunten.csv'\n"
     ]
    }
   ],
   "source": [
    "# Alle meetpunten inladen vanuit subfolders van Meetpunten\n",
    "csv_files = glob.glob('Meetpunten/*/*.csv')  # zoekt in alle subfolders\n",
    "\n",
    "# DataFrames inlezen en samenvoegen\n",
    "df_list = []\n",
    "for file in csv_files:\n",
    "    df = pd.read_csv(file, sep=';', encoding='utf-8')  # gebruik ';' als delimiter\n",
    "    df_list.append(df)\n",
    "\n",
    "# Samenvoegen in één DataFrame\n",
    "df_all = pd.concat(df_list, ignore_index=True)\n",
    "print(f\"Totaal aantal meetpunten: {len(df_all)}\")\n",
    "\n",
    "# Exporteren naar CSV\n",
    "df_all.to_csv('all_meetpunten.csv', index=False)\n",
    "print(\"Alle meetpunten opgeslagen in 'all_meetpunten.csv'\")\n"
   ]
  },
  {
   "cell_type": "markdown",
   "id": "8ac950fc",
   "metadata": {},
   "source": [
    "### Clusters maken"
   ]
  },
  {
   "cell_type": "code",
   "execution_count": 7,
   "id": "553f3b02",
   "metadata": {},
   "outputs": [
    {
     "name": "stdout",
     "output_type": "stream",
     "text": [
      "CSV 'meetpunten_met_clusters.csv' opgeslagen met cluster labels.\n"
     ]
    }
   ],
   "source": [
    "# 2. Clustering met HDBSCAN op RD-coördinaten (meters)\n",
    "# Zorg dat de kolommen 'GeometriePuntX_RD' en 'GeometriePuntY_RD' bestaan\n",
    "df_all = df_all.dropna(subset=['GeometriePuntX_RD', 'GeometriePuntY_RD'])\n",
    "coords = df_all[['GeometriePuntX_RD', 'GeometriePuntY_RD']].values\n",
    "\n",
    "# HDBSCAN-instantie: pas min_cluster_size en min_samples aan naar behoefte\n",
    "clusterer = hdbscan.HDBSCAN(\n",
    "    min_cluster_size=10,\n",
    "    min_samples=1,\n",
    "    metric='euclidean'\n",
    ")\n",
    "labels = clusterer.fit_predict(coords)\n",
    "\n",
    "# 3. Resultaten toevoegen aan DataFrame\n",
    "df_all['cluster_id'] = labels\n",
    "# Optioneel: waarschijnlijkheidscore per punt\n",
    "df_all['cluster_prob'] = clusterer.probabilities_\n",
    "\n",
    "# 4. Opslaan van de CSV met clusters\n",
    "df_all.to_csv('meetpunten_met_clusters.csv', index=False)\n",
    "print(\"CSV 'meetpunten_met_clusters.csv' opgeslagen met cluster labels.\")\n"
   ]
  },
  {
   "cell_type": "markdown",
   "id": "e5da438e",
   "metadata": {},
   "source": [
    "### HTML kaartje maken "
   ]
  },
  {
   "cell_type": "code",
   "execution_count": null,
   "id": "d64b326c",
   "metadata": {},
   "outputs": [
    {
     "name": "stdout",
     "output_type": "stream",
     "text": [
      "Eenvoudige interactieve kaart met gekleurde clusters opgeslagen als 'clusters_map_simple.html'\n"
     ]
    }
   ],
   "source": [
    "# 1. Inladen van de CSV met clusters\n",
    "df_all = pd.read_csv('meetpunten_met_clusters.csv')\n",
    "\n",
    "# 2. Omzetten van RD-coördinaten naar WGS84 (lon, lat)\n",
    "transformer = Transformer.from_crs('EPSG:28992', 'EPSG:4326', always_xy=True)\n",
    "df_all['lon'], df_all['lat'] = transformer.transform(\n",
    "    df_all['GeometriePuntX_RD'].values,\n",
    "    df_all['GeometriePuntY_RD'].values\n",
    ")\n",
    "\n",
    "# 3. Kleuren toewijzen per cluster_id\n",
    "def get_cluster_colors(cluster_ids):\n",
    "    # Voorbeeld kleurenpalet\n",
    "    palette = [\n",
    "        'red', 'blue', 'green', 'purple', 'orange', 'darkred', 'lightred',\n",
    "        'beige', 'darkblue', 'darkgreen', 'cadetblue', 'darkpurple',\n",
    "        'pink', 'lightblue', 'lightgreen', 'gray'\n",
    "    ]\n",
    "    return {cid: palette[i % len(palette)] for i, cid in enumerate(cluster_ids)}\n",
    "\n",
    "cluster_ids = sorted(df_all['cluster_id'].unique())\n",
    "color_map = get_cluster_colors(cluster_ids)\n",
    "\n",
    "# 4. Simpele Folium-kaart maken\n",
    "def create_cluster_map(df, color_map, zoom_start=10):\n",
    "    center = [df['lat'].mean(), df['lon'].mean()]\n",
    "    m = folium.Map(location=center, zoom_start=zoom_start)\n",
    "    for _, row in df.iterrows():\n",
    "        color = color_map.get(row['cluster_id'], 'gray')\n",
    "        folium.CircleMarker(\n",
    "            location=(row['lat'], row['lon']),\n",
    "            radius=4,\n",
    "            color=color,\n",
    "            fill=True,\n",
    "            fill_opacity=0.7,\n",
    "            popup=f\"Cluster: {row['cluster_id']}\"\n",
    "        ).add_to(m)\n",
    "    return m\n",
    "\n",
    "# 5. Maak kaart en sla op als HTML\n",
    "m = create_cluster_map(df_all, color_map)\n",
    "output_file = 'clusters_map_simple.html'\n",
    "m.save(output_file)\n",
    "print(f\"Eenvoudige interactieve kaart met gekleurde clusters opgeslagen als '{output_file}'\")\n"
   ]
  },
  {
   "cell_type": "markdown",
   "id": "0afd690b",
   "metadata": {},
   "source": [
    "### Relevantie van clusters"
   ]
  },
  {
   "cell_type": "code",
   "execution_count": 15,
   "id": "6210a4cb",
   "metadata": {},
   "outputs": [
    {
     "name": "stdout",
     "output_type": "stream",
     "text": [
      "Relevante clusters: [3, 5, 19, 25, 26, 32, 33, 44, 62, 64, 73, 74, 87, 88, 89, 91, 95, 96, 108, 113, 114, 124]\n",
      "meetpunten_met_clusters_relevant.csv opgeslagen met relevante kolom.\n"
     ]
    }
   ],
   "source": [
    "# 1. Inladen van bestaand CSV-bestand met cluster-id's\n",
    "df = pd.read_csv('meetpunten_met_clusters.csv')\n",
    "\n",
    "# 2. Bepaal de set van alle jaren in de dataset\n",
    "all_years = set(df['Meetjaar'].dropna().unique())\n",
    "\n",
    "# 3. Filter noise-cluster (cluster_id = -1) uit voor relevantiebepaling\n",
    "df_non_noise = df[df['cluster_id'] != -1]\n",
    "\n",
    "# 4. Groepeer per cluster en bepaal unieke jaren per cluster\n",
    "cluster_years = (\n",
    "    df_non_noise.groupby('cluster_id')['Meetjaar']\n",
    "    .apply(lambda yrs: set(yrs.dropna().unique()))\n",
    ")\n",
    "\n",
    "# 5. Identificeer relevante clusters (die elk jaar in all_years voorkomen)\n",
    "relevant_clusters = [\n",
    "    cid for cid, yrs in cluster_years.items() if yrs == all_years\n",
    "]\n",
    "print(f\"Relevante clusters: {relevant_clusters}\")\n",
    "\n",
    "# 6. Voeg een nieuwe kolom 'relevant' toe aan de DataFrame\n",
    "#    True als het meetpunt behoort tot een relevante cluster, anders False\n",
    "df['relevant'] = df['cluster_id'].isin(relevant_clusters)\n",
    "\n",
    "# 7. Opslaan van het nieuwe CSV-bestand\n",
    "df.to_csv('meetpunten_met_clusters_relevant.csv', index=False)\n",
    "print(\"meetpunten_met_clusters_relevant.csv opgeslagen met relevante kolom.\")\n"
   ]
  },
  {
   "cell_type": "code",
   "execution_count": null,
   "id": "4788986a",
   "metadata": {},
   "outputs": [],
   "source": [
    "Meetwaarden/Waterschap Brabantse Delta/WKP_Meetwaarden_Waterschap Brabantse Delta_*.csv"
   ]
  },
  {
   "cell_type": "markdown",
   "id": "f6577443",
   "metadata": {},
   "source": [
    "### Samenvoegen meetwaarden en meetpunten clusters"
   ]
  },
  {
   "cell_type": "code",
   "execution_count": 27,
   "id": "ec15346a",
   "metadata": {},
   "outputs": [
    {
     "name": "stderr",
     "output_type": "stream",
     "text": [
      "/var/folders/mg/rgpdn71s30sccy9pj35kkd6c0000gn/T/ipykernel_11399/86638576.py:21: DtypeWarning: Columns (4,7,8,9,15,16,17,25,26,34,35,40,41,42,43,48,49,60) have mixed types. Specify dtype option on import or set low_memory=False.\n",
      "  df = pd.read_csv(file, sep=';', encoding='utf-8')\n",
      "/var/folders/mg/rgpdn71s30sccy9pj35kkd6c0000gn/T/ipykernel_11399/86638576.py:21: DtypeWarning: Columns (4,7,8,9,16,17,22,34,35,40,41,42,43) have mixed types. Specify dtype option on import or set low_memory=False.\n",
      "  df = pd.read_csv(file, sep=';', encoding='utf-8')\n",
      "/var/folders/mg/rgpdn71s30sccy9pj35kkd6c0000gn/T/ipykernel_11399/86638576.py:21: DtypeWarning: Columns (4,7,8,20,24,25,26,34,35,42,43) have mixed types. Specify dtype option on import or set low_memory=False.\n",
      "  df = pd.read_csv(file, sep=';', encoding='utf-8')\n",
      "/var/folders/mg/rgpdn71s30sccy9pj35kkd6c0000gn/T/ipykernel_11399/86638576.py:21: DtypeWarning: Columns (4,7,8,20,24,25,26,34,35,42,43) have mixed types. Specify dtype option on import or set low_memory=False.\n",
      "  df = pd.read_csv(file, sep=';', encoding='utf-8')\n",
      "/var/folders/mg/rgpdn71s30sccy9pj35kkd6c0000gn/T/ipykernel_11399/86638576.py:21: DtypeWarning: Columns (4,7,8,22,34,35,40,41,42,43,44,45,48,49) have mixed types. Specify dtype option on import or set low_memory=False.\n",
      "  df = pd.read_csv(file, sep=';', encoding='utf-8')\n",
      "/var/folders/mg/rgpdn71s30sccy9pj35kkd6c0000gn/T/ipykernel_11399/86638576.py:21: DtypeWarning: Columns (4,20,34,35,40,41,48,49) have mixed types. Specify dtype option on import or set low_memory=False.\n",
      "  df = pd.read_csv(file, sep=';', encoding='utf-8')\n",
      "/var/folders/mg/rgpdn71s30sccy9pj35kkd6c0000gn/T/ipykernel_11399/86638576.py:21: DtypeWarning: Columns (4,7,8,9,15,16,17,34,35,40,41,42,43,48,49) have mixed types. Specify dtype option on import or set low_memory=False.\n",
      "  df = pd.read_csv(file, sep=';', encoding='utf-8')\n",
      "/var/folders/mg/rgpdn71s30sccy9pj35kkd6c0000gn/T/ipykernel_11399/86638576.py:21: DtypeWarning: Columns (4,7,8,9,15,16,17,20,22,34,35,40,41,42,43) have mixed types. Specify dtype option on import or set low_memory=False.\n",
      "  df = pd.read_csv(file, sep=';', encoding='utf-8')\n"
     ]
    },
    {
     "name": "stdout",
     "output_type": "stream",
     "text": [
      "Totaal aantal meetwaardenrijen: 1115673\n",
      "Aantal rijen na merge: 1115673\n",
      "Jaren in dataset: [2016, 2017, 2018, 2019, 2020, 2021, 2022, 2023, 2024]\n",
      "Aantal relevante cluster-stof combinaties: 1785\n",
      "Top 10 stoffen met hoogste cluster frequentie:\n",
      "    ParameterOmschrijving  count_clusters\n",
      "180              zuurstof              48\n",
      "5                  Schuim              47\n",
      "4                    Olie              42\n",
      "6                    Vuil              39\n",
      "40            chlorofyl-a              38\n",
      "15               ammoniak              33\n",
      "132               nitraat              33\n",
      "133               nitriet              33\n",
      "88          fosfor totaal              33\n",
      "86                fosfaat              33\n",
      "Totaal aantal unieke clusters (excl. noise): 87\n",
      "Stoffen in alle 87 clusters: []\n"
     ]
    }
   ],
   "source": [
    "# -------------------------\n",
    "# 1. Inladen van meetpunten met clusters en relevantie\n",
    "# -------------------------\n",
    "df_clusters = pd.read_csv('meetpunten_met_clusters_relevant.csv')\n",
    "# Unieke mapping per MeetobjectCode\n",
    "# We hebben per meetobject één cluster_id en relevant-flag nodig\n",
    "df_clusters_unique = (\n",
    "    df_clusters[['MeetobjectCode', 'cluster_id', 'relevant']]\n",
    "    .drop_duplicates(subset=['MeetobjectCode'])\n",
    ")\n",
    "\n",
    "# -------------------------\n",
    "# 2. Inladen en samenvoegen van meetwaarden (2016–2024)\n",
    "# -------------------------\n",
    "meetwaarden_files = glob.glob('Meetwaarden/Waterschap Brabantse Delta/WKP_Meetwaarden_Waterschap Brabantse Delta_*.csv')\n",
    "waarden_list = []\n",
    "for file in meetwaarden_files:\n",
    "    # Jaar uit bestandsnaam halen (bv. '_2016_')\n",
    "    match = re.search(r'_(\\d{4})_', file)\n",
    "    jaar = int(match.group(1)) if match else None\n",
    "    df = pd.read_csv(file, sep=';', encoding='utf-8')\n",
    "    df['year'] = jaar\n",
    "    waarden_list.append(df)\n",
    "# Samenvoegen van alle meetwaarden\n",
    "df_waarden = pd.concat(waarden_list, ignore_index=True)\n",
    "print(f\"Totaal aantal meetwaardenrijen: {len(df_waarden)}\")\n",
    "\n",
    "# -------------------------\n",
    "# 3. Merge meetwaarden met cluster-info op MeetobjectCode\n",
    "# -------------------------\n",
    "merged = df_waarden.merge(\n",
    "    df_clusters_unique,\n",
    "    on='MeetobjectCode',\n",
    "    how='left'\n",
    ")\n",
    "print(f\"Aantal rijen na merge: {len(merged)}\")\n",
    "\n",
    "# -------------------------\n",
    "# 4. Bepalen van relevante stoffen per cluster\n",
    "# -------------------------\n",
    "# Verwijder noise-cluster (cluster_id = -1)\n",
    "df_valid = merged[merged['cluster_id'] != -1]\n",
    "# Set van alle jaren in de data\n",
    "total_years = set(df_valid['year'].dropna().unique())\n",
    "print(f\"Jaren in dataset: {sorted(total_years)}\")\n",
    "\n",
    "# Groepeer per cluster en stof en verzamel gemeten jaren\n",
    "grouped = (\n",
    "    df_valid\n",
    "    .groupby(['cluster_id', 'ParameterOmschrijving'])['year']\n",
    "    .apply(lambda yrs: set(yrs.dropna().unique()))\n",
    "    .reset_index(name='years_measured')\n",
    ")\n",
    "# Markeer stoffen die in elk jaar van hun cluster zijn gemeten\n",
    "grouped['relevant_stof'] = grouped['years_measured'].apply(\n",
    "    lambda s: s == total_years\n",
    ")\n",
    "\n",
    "# Alleen relevante stoffen per cluster\n",
    "grouped_relevant = grouped[grouped['relevant_stof']]\n",
    "print(f\"Aantal relevante cluster-stof combinaties: {len(grouped_relevant)}\")\n",
    "\n",
    "# -------------------------\n",
    "# 5. Bepalen van globale relevantie over alle clusters\n",
    "# -------------------------\n",
    "# Tel per stof in hoeveel verschillende clusters hij relevant is\n",
    "# en bepaal stoffen met de hoogste cluster-frequentie\n",
    "df_counts = (\n",
    "    grouped_relevant\n",
    "    .groupby('ParameterOmschrijving')['cluster_id']\n",
    "    .nunique()\n",
    "    .reset_index(name='count_clusters')\n",
    ")\n",
    "# Sorteren op aflopend aantal clusters\n",
    "df_counts = df_counts.sort_values('count_clusters', ascending=False)\n",
    "print(\"Top 10 stoffen met hoogste cluster frequentie:\")\n",
    "print(df_counts.head(10))\n",
    "\n",
    "# Optioneel: bepaal aantal clusters\n",
    "total_clusters = df_valid['cluster_id'].nunique()\n",
    "print(f\"Totaal aantal unieke clusters (excl. noise): {total_clusters}\")\n",
    "\n",
    "# Stoffen die in alle clusters voorkomen\n",
    "top_all = df_counts[df_counts['count_clusters'] == total_clusters]\n",
    "print(f\"Stoffen in alle {total_clusters} clusters: {top_all['ParameterOmschrijving'].tolist()}\")\n",
    "\n"
   ]
  }
 ],
 "metadata": {
  "kernelspec": {
   "display_name": "Python 3.11 (Capstone)",
   "language": "python",
   "name": "py311-capstone"
  },
  "language_info": {
   "codemirror_mode": {
    "name": "ipython",
    "version": 3
   },
   "file_extension": ".py",
   "mimetype": "text/x-python",
   "name": "python",
   "nbconvert_exporter": "python",
   "pygments_lexer": "ipython3",
   "version": "3.11.1"
  }
 },
 "nbformat": 4,
 "nbformat_minor": 5
}
