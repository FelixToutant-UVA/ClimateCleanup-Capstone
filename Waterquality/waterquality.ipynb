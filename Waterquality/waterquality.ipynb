{
 "cells": [
  {
   "cell_type": "code",
   "execution_count": 4,
   "id": "74e821f6",
   "metadata": {},
   "outputs": [
    {
     "ename": "ModuleNotFoundError",
     "evalue": "No module named 'folium'",
     "output_type": "error",
     "traceback": [
      "\u001b[0;31m---------------------------------------------------------------------------\u001b[0m",
      "\u001b[0;31mModuleNotFoundError\u001b[0m                       Traceback (most recent call last)",
      "Cell \u001b[0;32mIn[4], line 1\u001b[0m\n\u001b[0;32m----> 1\u001b[0m \u001b[38;5;28;01mimport\u001b[39;00m \u001b[38;5;21;01mfolium\u001b[39;00m\n\u001b[1;32m      3\u001b[0m m \u001b[38;5;241m=\u001b[39m folium\u001b[38;5;241m.\u001b[39mMap(location\u001b[38;5;241m=\u001b[39m[\u001b[38;5;241m51.6\u001b[39m, \u001b[38;5;241m5.0\u001b[39m], zoom_start\u001b[38;5;241m=\u001b[39m\u001b[38;5;241m9\u001b[39m)\n\u001b[1;32m      4\u001b[0m m\u001b[38;5;241m.\u001b[39msave(\u001b[38;5;124m\"\u001b[39m\u001b[38;5;124mtestkaart.html\u001b[39m\u001b[38;5;124m\"\u001b[39m)\n",
      "\u001b[0;31mModuleNotFoundError\u001b[0m: No module named 'folium'"
     ]
    }
   ],
   "source": [
    "import folium\n",
    "\n",
    "m = folium.Map(location=[51.6, 5.0], zoom_start=9)\n",
    "m.save(\"testkaart.html\")\n",
    "print(\"Kaart succesvol opgeslagen! Open 'testkaart.html' in je browser.\")\n"
   ]
  },
  {
   "cell_type": "code",
   "execution_count": 1,
   "id": "3e4e67cd",
   "metadata": {},
   "outputs": [
    {
     "ename": "ModuleNotFoundError",
     "evalue": "No module named 'folium'",
     "output_type": "error",
     "traceback": [
      "\u001b[0;31m---------------------------------------------------------------------------\u001b[0m",
      "\u001b[0;31mModuleNotFoundError\u001b[0m                       Traceback (most recent call last)",
      "Cell \u001b[0;32mIn[1], line 2\u001b[0m\n\u001b[1;32m      1\u001b[0m \u001b[38;5;28;01mimport\u001b[39;00m \u001b[38;5;21;01mpandas\u001b[39;00m \u001b[38;5;28;01mas\u001b[39;00m \u001b[38;5;21;01mpd\u001b[39;00m\n\u001b[0;32m----> 2\u001b[0m \u001b[38;5;28;01mimport\u001b[39;00m \u001b[38;5;21;01mfolium\u001b[39;00m\n\u001b[1;32m      3\u001b[0m \u001b[38;5;28;01mfrom\u001b[39;00m \u001b[38;5;21;01mpyproj\u001b[39;00m \u001b[38;5;28;01mimport\u001b[39;00m Transformer\n\u001b[1;32m      5\u001b[0m \u001b[38;5;66;03m# Stap 1: Laad de dataset\u001b[39;00m\n",
      "\u001b[0;31mModuleNotFoundError\u001b[0m: No module named 'folium'"
     ]
    }
   ],
   "source": [
    "import pandas as pd\n",
    "import folium\n",
    "from pyproj import Transformer\n",
    "\n",
    "# Stap 1: Laad de dataset\n",
    "df = pd.read_csv(\"WKP_Meetobjecten_Waterschap Brabantse Delta_2024_20250414172129.csv\", sep=\";\", encoding=\"utf-8\")\n",
    "\n",
    "# Stap 2: Zet RD naar WGS84\n",
    "transformer = Transformer.from_crs(\"EPSG:28992\", \"EPSG:4326\", always_xy=True)\n",
    "df[['lon', 'lat']] = df.apply(\n",
    "    lambda row: pd.Series(transformer.transform(row['GeometriePuntX_RD'], row['GeometriePuntY_RD'])),\n",
    "    axis=1\n",
    ")\n",
    "\n",
    "# Stap 3: Definieer voedselbossen (al in RD → omzetten naar lat/lon)\n",
    "voedselbossen_rd = {\n",
    "    \"Vierhoeven Roosendaal\": (94471, 408274),\n",
    "    \"Haverleij\": (136282, 412233),\n",
    "    \"Kleindongen\": (116648, 407281),\n",
    "    \"Wildernest\": (131417, 383390)\n",
    "}\n",
    "voedselbossen_wgs = {\n",
    "    naam: transformer.transform(x, y)\n",
    "    for naam, (x, y) in voedselbossen_rd.items()\n",
    "}\n",
    "\n",
    "# Stap 4: Maak de kaart\n",
    "m = folium.Map(location=[51.6, 5.0], zoom_start=9)\n",
    "\n",
    "# Voeg meetpunten toe\n",
    "for _, row in df.iterrows():\n",
    "    folium.CircleMarker(\n",
    "        location=[row['lat'], row['lon']],\n",
    "        radius=3,\n",
    "        color='blue',\n",
    "        fill=True,\n",
    "        fill_opacity=0.7\n",
    "    ).add_to(m)\n",
    "\n",
    "# Voeg voedselbossen toe\n",
    "for naam, (lon, lat) in voedselbossen_wgs.items():\n",
    "    folium.Marker(\n",
    "        location=[lat, lon],\n",
    "        popup=naam,\n",
    "        icon=folium.Icon(color='green', icon='leaf')\n",
    "    ).add_to(m)\n",
    "\n",
    "# Laat kaart zien (in Jupyter gebruik: m)\n",
    "m.save(\"meetpunten_voedselbossen_kaart.html\")\n",
    "print(\"Kaart opgeslagen als 'meetpunten_voedselbossen_kaart.html'\")\n"
   ]
  }
 ],
 "metadata": {
  "kernelspec": {
   "display_name": "base",
   "language": "python",
   "name": "python3"
  },
  "language_info": {
   "codemirror_mode": {
    "name": "ipython",
    "version": 3
   },
   "file_extension": ".py",
   "mimetype": "text/x-python",
   "name": "python",
   "nbconvert_exporter": "python",
   "pygments_lexer": "ipython3",
   "version": "3.10.9"
  }
 },
 "nbformat": 4,
 "nbformat_minor": 5
}
